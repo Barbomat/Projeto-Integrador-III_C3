{
  "cells": [
    {
      "cell_type": "markdown",
      "metadata": {
        "id": "09vFn8Px7Ofb"
      },
      "source": [
        "# Avaliação C3 - Projeto Integrador de Computação III"
      ]
    },
    {
      "cell_type": "markdown",
      "metadata": {
        "id": "HrM9rK8Csf5c"
      },
      "source": [
        "Neumann Software consiste dos membros: \n",
        "\n",
        "* Gabriel Cardozo Ansesqui Rangel\n",
        "* Lucas Carlos Giacomin\n",
        "* Matheus de Paula Barbosa\n",
        "* Nathan da Silva Bravin\n",
        "* Nicole Menezes Cravo\n",
        "* Rafael de Oliveira Lopes\n",
        "* Renan Texeira"
      ]
    },
    {
      "cell_type": "markdown",
      "metadata": {
        "id": "P0WrgGW27fJC"
      },
      "source": [
        "# Importações e Datasets\n"
      ]
    },
    {
      "cell_type": "code",
      "execution_count": null,
      "metadata": {
        "colab": {
          "base_uri": "https://localhost:8080/"
        },
        "id": "1Gar4asP6zOT",
        "outputId": "1fcf8f34-ae32-4d96-c36c-6836a69e9e1f"
      },
      "outputs": [],
      "source": [
        "# Montar google drive para leitura de dados:\n",
        "\n",
        "from google.colab import drive\n",
        "drive.mount('/content/drive')"
      ]
    },
    {
      "cell_type": "code",
      "execution_count": null,
      "metadata": {
        "id": "uLgcLRGn7k6R"
      },
      "outputs": [],
      "source": [
        "#Biblioteca para ajudar na visualização dos dados no python, inclusive ela é baseada na matplotlib.\n",
        "\n",
        "import seaborn as sns\n",
        "\n",
        "# Importando biblioteca Pandas para a criação e manipulação de DataFrames.\n",
        "import pandas as pd\n",
        "\n",
        "#Importando numpy\n",
        "import numpy as np \n",
        "\n",
        "# Importando o método PLT para visualizar graficamente os dados, cálculos e regressões que aplicarmos.\n",
        "import math\n",
        "import matplotlib as plt\n",
        "\n",
        "# Importando o método PreProcessing da biblioteca SKLearn para aplicar Label Encoding.\n",
        "from sklearn import preprocessing\n",
        "\n",
        "# Importando o método LogisticRegression para poder realizar regressões logísticas no DataFrame.\n",
        "from sklearn.linear_model import LogisticRegression\n",
        "\n",
        "# Importando o método LinearRegression para poder realizar regressões lineares no DataFrame.\n",
        "from sklearn.linear_model import LinearRegression\n",
        "\n",
        "# Importando os métodos MSE para obter a margem de erro de nossas estimativas, o método Confusion Matrix para poder realizar \n",
        "# matrizes de confusão, e método AUC para podermos visualizar a curva ROC.\n",
        "from sklearn.metrics import confusion_matrix, auc, roc_auc_score, roc_curve\n",
        "\n",
        "from sklearn.model_selection import train_test_split\n",
        "\n",
        "from sklearn import metrics\n",
        "from sklearn.metrics import mean_absolute_error\n",
        "from sklearn.metrics import mean_squared_error\n",
        "from sklearn.metrics import r2_score\n",
        "from mlxtend.plotting import plot_confusion_matrix\n",
        "from sklearn.metrics import mean_squared_error\n",
        "from imblearn.over_sampling import SMOTE\n",
        "from imblearn.under_sampling import NearMiss\n",
        "from sklearn.ensemble import RandomForestClassifier\n",
        "\n",
        "from sklearn.feature_selection import SelectKBest\n",
        "from sklearn.feature_selection import f_classif\n",
        "\n",
        "from sklearn import preprocessing\n",
        "\n",
        "from sklearn.ensemble import RandomForestClassifier\n",
        "from sklearn.naive_bayes import GaussianNB\n",
        "from xgboost import XGBClassifier\n",
        "from sklearn.tree import DecisionTreeClassifier\n",
        "from sklearn.neighbors import KNeighborsClassifier\n",
        "\n",
        "import matplotlib.pyplot as plt\n",
        "\n",
        "import math\n",
        "\n",
        "import warnings\n",
        "warnings.filterwarnings('ignore')"
      ]
    },
    {
      "cell_type": "code",
      "execution_count": null,
      "metadata": {
        "colab": {
          "base_uri": "https://localhost:8080/",
          "height": 957
        },
        "id": "5vvX4DYx7lOp",
        "outputId": "9b890b79-c638-4cce-bef2-94634b74eb20"
      },
      "outputs": [],
      "source": [
        "# Leitura dos dados em formato XLSX (Excel) e importação para um dataframe com o auxilio do Pandas:\n",
        "\n",
        "path = \"/content/drive/MyDrive/Projeto Integrador III/C3/athlete_events.csv\"\n",
        "data = pd.read_csv(path)\n",
        "data"
      ]
    },
    {
      "cell_type": "code",
      "execution_count": null,
      "metadata": {},
      "outputs": [],
      "source": [
        "# Caso queira ler o arquivo localmente utilize este código abaixo:\n",
        "\n",
        "data = pd.read_excel(\"./Dados.xlsx\")\n",
        "data"
      ]
    },
    {
      "cell_type": "code",
      "execution_count": null,
      "metadata": {
        "colab": {
          "base_uri": "https://localhost:8080/"
        },
        "id": "dShugdd4Bss7",
        "outputId": "b82ceaa6-62f5-4e0f-e0e9-f7330389ec9f"
      },
      "outputs": [],
      "source": [
        "# Fazendo a soma de valores faltantes no nosso dataset.\n",
        "\n",
        "data.isna().sum()"
      ]
    },
    {
      "cell_type": "code",
      "execution_count": null,
      "metadata": {
        "colab": {
          "base_uri": "https://localhost:8080/"
        },
        "id": "cAxJOL02BGbF",
        "outputId": "8ab091a9-c768-4743-c368-d93fc6fa7d0a"
      },
      "outputs": [],
      "source": [
        "# Aqui estamos calculando a média desses valores faltantes que foram somados anteriormente.\n",
        "\n",
        "mean_Age = data.Age.mean();\n",
        "mean_Height = data.Height.mean();\n",
        "mean_Weight = data.Weight.mean();\n",
        "\n",
        "# Impressão das médias calculadas anteriormente. \n",
        "\n",
        "print(\"Idade:\", mean_Age)\n",
        "print(\"Altura:\", mean_Height)\n",
        "print(\"Peso:\", mean_Weight)"
      ]
    },
    {
      "cell_type": "code",
      "execution_count": null,
      "metadata": {
        "id": "SCOcQQ7PBLct"
      },
      "outputs": [],
      "source": [
        "# Preenchendo os valores que estão faltando com as médias obtidas anteriormente.\n",
        "\n",
        "data.update(data.Age.fillna(math.floor(mean_Age)))\n",
        "data.update(data.Height.fillna(math.floor(mean_Height)))\n",
        "data.update(data.Weight.fillna(math.floor(mean_Weight)))"
      ]
    },
    {
      "cell_type": "code",
      "execution_count": null,
      "metadata": {
        "colab": {
          "base_uri": "https://localhost:8080/"
        },
        "id": "dISdKbeaBvfs",
        "outputId": "fcb1da54-e340-43b0-da82-82a705535254"
      },
      "outputs": [],
      "source": [
        "# Fazendo nova visualização para garantir que não há mais nenhum elemento em falta.\n",
        "\n",
        "data.isna().sum()"
      ]
    },
    {
      "cell_type": "code",
      "execution_count": null,
      "metadata": {
        "colab": {
          "base_uri": "https://localhost:8080/",
          "height": 618
        },
        "id": "UdrcqsmPCa5b",
        "outputId": "dbcf98ff-d973-4b59-c010-cfffbb3c6674"
      },
      "outputs": [],
      "source": [
        "# Separando os dados onde o sexo é feminino.\n",
        "\n",
        "data_female = data[(data.Sex == 'F')]\n",
        "data_female.head()"
      ]
    },
    {
      "cell_type": "code",
      "execution_count": null,
      "metadata": {
        "colab": {
          "base_uri": "https://localhost:8080/",
          "height": 496
        },
        "id": "1_BAqzF7Ymrt",
        "outputId": "0be26407-f297-41af-c88a-beb023840ed3"
      },
      "outputs": [],
      "source": [
        "# Separando os dados onde o sexo é feminino.\n",
        "\n",
        "data_male = data[(data.Sex == 'M')]\n",
        "data_male.head()"
      ]
    },
    {
      "cell_type": "markdown",
      "metadata": {
        "id": "mx7uUs19YMlM"
      },
      "source": [
        "# Gráficos"
      ]
    },
    {
      "cell_type": "markdown",
      "metadata": {
        "id": "dG3UuOChYncr"
      },
      "source": [
        "## Criação de dados de atletas divididos por sexo:"
      ]
    },
    {
      "cell_type": "code",
      "execution_count": null,
      "metadata": {
        "id": "L_UHmwrFqeRt"
      },
      "outputs": [],
      "source": [
        "female_1900_1948 = data_female.query('Year == 1900 or Year == 1904 or Year == 1906 or Year == 1908 or Year == 1912 or Year == 1920 or Year == 1924 or Year == 1928 or Year == 1932 or Year == 1936 or Year == 1948')\n",
        "female_1952_2000 = data_female.query('Year == 1952 or Year == 1956 or Year == 1960 or Year == 1964 or Year == 1968 or Year == 1972 or Year == 1976 or Year == 1980 or Year == 1984 or Year == 1988 or Year == 1992 or Year == 1994 or Year == 1996 or Year == 1998')\n",
        "female_2002_2016 = data_female.query('Year == 2002 or Year == 2004 or Year == 2006 or Year == 2008 or Year == 2010 or Year == 2012 or Year == 2014 or Year == 2016')"
      ]
    },
    {
      "cell_type": "code",
      "execution_count": null,
      "metadata": {
        "id": "anOXL5E4r3JQ"
      },
      "outputs": [],
      "source": [
        "male_1900_1948 = data_male.query('Year == 1900 or Year == 1904 or Year == 1906 or Year == 1908 or Year == 1912 or Year == 1920 or Year == 1924 or Year == 1928 or Year == 1932 or Year == 1936 or Year == 1948')\n",
        "male_1952_2000 = data_male.query('Year == 1952 or Year == 1956 or Year == 1960 or Year == 1964 or Year == 1968 or Year == 1972 or Year == 1976 or Year == 1980 or Year == 1984 or Year == 1988 or Year == 1992 or Year == 1994 or Year == 1996 or Year == 1998')\n",
        "male_2002_2016 = data_male.query('Year == 2002 or Year == 2004 or Year == 2006 or Year == 2008 or Year == 2010 or Year == 2012 or Year == 2014 or Year == 2016')"
      ]
    },
    {
      "cell_type": "markdown",
      "metadata": {
        "id": "mrub1RZXjl0V"
      },
      "source": [
        "## Divisão de atletas entre 1900 a 1948:\n",
        "\n"
      ]
    },
    {
      "cell_type": "markdown",
      "metadata": {
        "id": "kinDgRejYRR0"
      },
      "source": [
        "### Divisão de atletas femininas entre 1900 a 1948:"
      ]
    },
    {
      "cell_type": "code",
      "execution_count": null,
      "metadata": {
        "colab": {
          "base_uri": "https://localhost:8080/",
          "height": 823
        },
        "id": "pSlUzRQDqjvW",
        "outputId": "d46de547-1497-4de4-8fdd-eb917a063a4b"
      },
      "outputs": [],
      "source": [
        "graf = sns.catplot(x = \"Year\",\n",
        "            data = female_1900_1948,\n",
        "            kind = \"count\",\n",
        "            height = 10,\n",
        "            aspect = .9\n",
        "            )\n",
        "ax = graf.axes[0, 0]\n",
        "ax.bar_label(ax.containers[0])"
      ]
    },
    {
      "cell_type": "markdown",
      "metadata": {
        "id": "YczwxMBTkNUP"
      },
      "source": [
        "### Divisão de atletas masculinos entre 1900 a 1948:"
      ]
    },
    {
      "cell_type": "code",
      "execution_count": null,
      "metadata": {
        "colab": {
          "base_uri": "https://localhost:8080/",
          "height": 823
        },
        "id": "4ZE21hnfkTM3",
        "outputId": "7c1956fc-247d-4894-bb19-a8deba922061"
      },
      "outputs": [],
      "source": [
        "graf = sns.catplot(x = \"Year\",\n",
        "            data = male_1900_1948,\n",
        "            kind = \"count\",\n",
        "            height = 10,\n",
        "            aspect = .9\n",
        "            )\n",
        "ax = graf.axes[0, 0]\n",
        "ax.bar_label(ax.containers[0])"
      ]
    },
    {
      "cell_type": "markdown",
      "metadata": {
        "id": "YCUcdE73kdqW"
      },
      "source": [
        "### **Comentário:** \n",
        "A partir dos gráficos é possível notar que a quantidade de atletas femininas é bem baixa, porque no começo não era permitido de forma ampla a participação de mulheres nos jogos olímpicos, existiam alguns critérios conforme modalidade e esporte."
      ]
    },
    {
      "cell_type": "markdown",
      "metadata": {
        "id": "_O-SLvckk2hE"
      },
      "source": [
        "## Divisão de atletas entre 1952 a 1998:"
      ]
    },
    {
      "cell_type": "markdown",
      "metadata": {
        "id": "97a8tU6oYY6T"
      },
      "source": [
        "### Divisão de atletas femininas entre 1952 a 1998:"
      ]
    },
    {
      "cell_type": "code",
      "execution_count": null,
      "metadata": {
        "colab": {
          "base_uri": "https://localhost:8080/",
          "height": 1000
        },
        "id": "-TlKUj6dqnk1",
        "outputId": "02b37651-a3ca-4cef-f48b-386500b6ee68"
      },
      "outputs": [],
      "source": [
        "graf = sns.catplot(x = \"Year\",\n",
        "            data = female_1952_2000,\n",
        "            kind = \"count\",\n",
        "            height = 10,\n",
        "            aspect = .9\n",
        "            )\n",
        "ax = graf.axes[0, 0]\n",
        "ax.bar_label(ax.containers[0])"
      ]
    },
    {
      "cell_type": "markdown",
      "metadata": {
        "id": "q_D7tvKclB4U"
      },
      "source": [
        "### Divisão de atletas masculinos entre 1952 a 1998:"
      ]
    },
    {
      "cell_type": "code",
      "execution_count": null,
      "metadata": {
        "colab": {
          "base_uri": "https://localhost:8080/",
          "height": 1000
        },
        "id": "JOQIP2talJzw",
        "outputId": "6568e8a4-1c42-426e-9f46-e75b0d5c2e8f"
      },
      "outputs": [],
      "source": [
        "graf = sns.catplot(x = \"Year\",\n",
        "            data = male_1952_2000,\n",
        "            kind = \"count\",\n",
        "            height = 10,\n",
        "            aspect = .9\n",
        "            )\n",
        "ax = graf.axes[0, 0]\n",
        "ax.bar_label(ax.containers[0])"
      ]
    },
    {
      "cell_type": "markdown",
      "metadata": {
        "id": "Z9agQ3RGlUn2"
      },
      "source": [
        "### **Comentário:** \n",
        "A inserção das mulheres nos jogos olímpicos ocorreu de forma gradativa, o número de modalidades esportivas praticadas por mulheres foi crescendo, e é possível perceber que ocorreu um aumento significativo de mulheres a partir dos anos 80 em diante."
      ]
    },
    {
      "cell_type": "markdown",
      "metadata": {
        "id": "RQqZbUzOlnur"
      },
      "source": [
        "## Divisão de atletas entre 2002 a 2016:"
      ]
    },
    {
      "cell_type": "markdown",
      "metadata": {
        "id": "wLOrIuYiYc9e"
      },
      "source": [
        "### Divisão de atletas femininas entre 2002 a 2016:"
      ]
    },
    {
      "cell_type": "code",
      "execution_count": null,
      "metadata": {
        "colab": {
          "base_uri": "https://localhost:8080/",
          "height": 608
        },
        "id": "N6aFwHBQqqUa",
        "outputId": "e8b6bb59-1948-4b22-dc20-f5ff0c62a599"
      },
      "outputs": [],
      "source": [
        "graf = sns.catplot(x = \"Year\",\n",
        "            data = female_2002_2016,\n",
        "            kind = \"count\",\n",
        "            height = 10,\n",
        "            aspect = .9\n",
        "            )\n",
        "ax = graf.axes[0, 0]\n",
        "ax.bar_label(ax.containers[0])"
      ]
    },
    {
      "cell_type": "markdown",
      "metadata": {
        "id": "w21HLk3fY_uv"
      },
      "source": [
        "### Divisão de atletas masculinos entre 2002 a 2016:"
      ]
    },
    {
      "cell_type": "code",
      "execution_count": null,
      "metadata": {
        "colab": {
          "base_uri": "https://localhost:8080/",
          "height": 608
        },
        "id": "zBJaTYMPr9QZ",
        "outputId": "d2f7ed5b-bf40-4e52-e7c3-1226f3e2c000"
      },
      "outputs": [],
      "source": [
        "graf = sns.catplot(x = \"Year\",\n",
        "            data = male_2002_2016,\n",
        "            kind = \"count\",\n",
        "            height = 10,\n",
        "            aspect = .9\n",
        "            )\n",
        "ax = graf.axes[0, 0]\n",
        "ax.bar_label(ax.containers[0])"
      ]
    },
    {
      "cell_type": "markdown",
      "metadata": {
        "id": "QrFu1EhMl5LP"
      },
      "source": [
        "### **Comentário:**\n",
        "É possível analisar no gráfico que na década de 2000 e aumento no número de atletas femininas foi menor, porém a presença feminina nas olimpíadas já era comum. É possível notar também que o número de atletas despenca nos anos de 2002, 2006, 2010 e 2014. Isso acontece pois os dados desses anos se referem a olimpíadas de inverno, onde não são todos os países que participam."
      ]
    },
    {
      "cell_type": "markdown",
      "metadata": {
        "id": "smuseNy2mGyN"
      },
      "source": [
        "## Divisão quantitativa de atletas em esportes aquáticos:"
      ]
    },
    {
      "cell_type": "markdown",
      "metadata": {
        "id": "VHIkPJYKZFOc"
      },
      "source": [
        "### Divisão quantitativa de atletas masculinos em esportes aquáticos:"
      ]
    },
    {
      "cell_type": "code",
      "execution_count": null,
      "metadata": {
        "colab": {
          "base_uri": "https://localhost:8080/",
          "height": 465
        },
        "id": "Afw3LGe3YO9_",
        "outputId": "29edd389-67c9-4038-b591-0fb420fee309"
      },
      "outputs": [],
      "source": [
        "data_male_aquatics = data_male.query('Sport == \"Sailing\" or Sport == \"Rowing\" or Sport == \"Water Polo\" or Sport == \"Synchronized Swimming\" or Sport == \"Diving\" or Sport == \"Swimming\" or Sport == \"Canoeing\"')\n",
        "\n",
        "graf = sns.catplot(x = \"Sport\",\n",
        "            data = data_male_aquatics,\n",
        "            kind = \"count\",\n",
        "            height = 10,\n",
        "            aspect = 1\n",
        "            )\n",
        "ax = graf.axes[0, 0]\n",
        "ax.bar_label(ax.containers[0])"
      ]
    },
    {
      "cell_type": "markdown",
      "metadata": {
        "id": "Hhu3kft7ZVPA"
      },
      "source": [
        "### Divisão quantitativa de atletas femininas em esportes aquáticos:"
      ]
    },
    {
      "cell_type": "code",
      "execution_count": null,
      "metadata": {
        "colab": {
          "base_uri": "https://localhost:8080/",
          "height": 537
        },
        "id": "3w9kQNbpZZjC",
        "outputId": "d1fa6d4f-17a6-42c7-b2f6-cf86f255cb6c"
      },
      "outputs": [],
      "source": [
        "data_female_aquatics = data_female.query('Sport == \"Sailing\" or Sport == \"Rowing\" or Sport == \"Water Polo\" or Sport == \"Synchronized Swimming\" or Sport == \"Diving\" or Sport == \"Swimming\" or Sport == \"Canoeing\"')\n",
        "\n",
        "graf = sns.catplot(x = \"Sport\",\n",
        "            data = data_female_aquatics,\n",
        "            kind = \"count\",\n",
        "            height = 10,\n",
        "            aspect = 1.2\n",
        "            )\n",
        "ax = graf.axes[0, 0]\n",
        "ax.bar_label(ax.containers[0])"
      ]
    },
    {
      "cell_type": "markdown",
      "metadata": {
        "id": "ShjjdRGFoWG3"
      },
      "source": [
        "### **Comentário:**\n",
        "Podemos ver que em ambos os gráficos que a natação é o esporte preferido. Em geral, atletas femininas possuem baixos números em outros esportes aquáticos, exceto natação."
      ]
    },
    {
      "cell_type": "markdown",
      "metadata": {
        "id": "MX63CfIdmb6K"
      },
      "source": [
        "## Divisão quantitativa de atletas em esportes atléticos:"
      ]
    },
    {
      "cell_type": "markdown",
      "metadata": {
        "id": "Jfac71W4ZZe9"
      },
      "source": [
        "### Divisão quantitativa de atletas masculinos em esportes atléticos:"
      ]
    },
    {
      "cell_type": "code",
      "execution_count": null,
      "metadata": {
        "colab": {
          "base_uri": "https://localhost:8080/",
          "height": 537
        },
        "id": "srM5Zfb7aeI8",
        "outputId": "6d39931f-5efc-48ec-c687-617aefb3aa8f"
      },
      "outputs": [],
      "source": [
        "data_male_athletics = data_male.query('Sport == \"Athletics\" or Sport == \"Weightlifting\" or Sport == \"Rhythmic Gymnastics\" or Sport == \"Gymnastics\" or Sport == \"Triathlon\" or Sport == \"Trampolining\" or Sport == \"Modern Pentathlon\" or Sport == \"Cycling\"')\n",
        "\n",
        "graf = sns.catplot(x = \"Sport\",\n",
        "            data = data_male_athletics,\n",
        "            kind = \"count\",\n",
        "            height = 10,\n",
        "            aspect = 1\n",
        "            )\n",
        "ax = graf.axes[0, 0]\n",
        "ax.bar_label(ax.containers[0])"
      ]
    },
    {
      "cell_type": "markdown",
      "metadata": {
        "id": "0arjzgiLZlwU"
      },
      "source": [
        "### Divisão quantitativa de atletas femininas em esportes atléticos:"
      ]
    },
    {
      "cell_type": "code",
      "execution_count": null,
      "metadata": {
        "colab": {
          "base_uri": "https://localhost:8080/",
          "height": 608
        },
        "id": "cD_XnvR1bPFy",
        "outputId": "51ef6bdc-b30f-41cf-aa2b-64cc7da06231"
      },
      "outputs": [],
      "source": [
        "data_female_athletism = data_female.query('Sport == \"Athletics\" or Sport == \"Weightlifting\" or Sport == \"Rhythmic Gymnastics\" or Sport == \"Gymnastics\" or Sport == \"Triathlon\" or Sport == \"Trampolining\" or Sport == \"Modern Pentathlon\" or Sport == \"Cycling\"')\n",
        "\n",
        "graf = sns.catplot(x = \"Sport\",\n",
        "            data = data_female_athletism,\n",
        "            kind = \"count\",\n",
        "            height = 10,\n",
        "            aspect = 1.5\n",
        "            )\n",
        "ax = graf.axes[0, 0]\n",
        "ax.bar_label(ax.containers[0])"
      ]
    },
    {
      "cell_type": "markdown",
      "metadata": {
        "id": "MNu7EfiKoe55"
      },
      "source": [
        "### **Comentário:**\n",
        "Há uma grande concentração em ambos os sexos em ginástica e atletismo, atletas femininas possuem baixos números em outros esportes atléticos, com poucos times em diferentes esportes."
      ]
    },
    {
      "cell_type": "markdown",
      "metadata": {
        "id": "-NIxA2jtmrIA"
      },
      "source": [
        "## Divisão quantitativa de atletas em esportes de inverno:"
      ]
    },
    {
      "cell_type": "markdown",
      "metadata": {
        "id": "EvglyB5tZpf7"
      },
      "source": [
        "### Divisão quantitativa de atletas masculinos em esportes de inverno:"
      ]
    },
    {
      "cell_type": "code",
      "execution_count": null,
      "metadata": {
        "colab": {
          "base_uri": "https://localhost:8080/",
          "height": 1000
        },
        "id": "Fx0ZT26vb2Pa",
        "outputId": "2b82fd07-e98a-48c6-a78e-a4fb6154b6d1"
      },
      "outputs": [],
      "source": [
        "data_male_winter = data_male.query('Sport == \"Speed Skating\" or Sport == \"Biathlon\" or Sport == \"Luge\" or Sport == \"Alpine Skiing\" or Sport == \"Figure Skating\" or Sport == \"Cross Country Skiing\" or Sport == \"Ice Hockey\" or Sport == \"Curling\" or Sport == \"Freestyle Skiing\" or Sport == \"Skeleton\" or Sport == \"Short Track Speed Skate\" or Sport == \"Ski Jumping\" or Sport == \"Snowboarding\" or Sport == \"Bobsleigh\" or Sport == \"Alpinism\"')\n",
        "\n",
        "graf = sns.catplot(x = \"Sport\",\n",
        "            data = data_male_winter,\n",
        "            kind = \"count\",\n",
        "            height = 10,\n",
        "            aspect = 2\n",
        "            )\n",
        "ax = graf.axes[0, 0]\n",
        "ax.bar_label(ax.containers[0])"
      ]
    },
    {
      "cell_type": "markdown",
      "metadata": {
        "id": "GN0fLtBUZxlQ"
      },
      "source": [
        "### Divisão quantitativa de atletas femininas em esportes de inverno:"
      ]
    },
    {
      "cell_type": "code",
      "execution_count": null,
      "metadata": {
        "colab": {
          "base_uri": "https://localhost:8080/",
          "height": 1000
        },
        "id": "9V6QBZchcItR",
        "outputId": "d2da33a9-8973-4a7c-ce86-92fc13b5bdd9"
      },
      "outputs": [],
      "source": [
        "data_female_winter = data_female.query('Sport == \"Speed Skating\" or Sport == \"Biathlon\" or Sport == \"Luge\" or Sport == \"Alpine Skiing\" or Sport == \"Figure Skating\" or Sport == \"Cross Country Skiing\" or Sport == \"Ice Hockey\" or Sport == \"Curling\" or Sport == \"Freestyle Skiing\" or Sport == \"Skeleton\" or Sport == \"Short Track Speed Skate\" or Sport == \"Ski Jumping\" or Sport == \"Snowboarding\" or Sport == \"Bobsleigh\" or Sport == \"Alpinism\"')\n",
        "\n",
        "graf = sns.catplot(x = \"Sport\",\n",
        "            data = data_female_winter,\n",
        "            kind = \"count\",\n",
        "            height = 10,\n",
        "            aspect = 1.7\n",
        "            )\n",
        "ax = graf.axes[0, 0]\n",
        "ax.bar_label(ax.containers[0])"
      ]
    },
    {
      "cell_type": "markdown",
      "metadata": {
        "id": "9DRK0k_Zom3H"
      },
      "source": [
        "### **Comentário:**\n",
        "Vemos muitas atletas femininas praticando diferentes modalidades de esqui, patinação e biathlon. A ginástica artística é um esporte com números similares de integrantes de ambos os sexos, com maiores integrantes femininas. Esportes principalmente masculinos são hóquei, bobsleigh e salto de esqui."
      ]
    },
    {
      "cell_type": "markdown",
      "metadata": {
        "id": "e6IRJQyAmzPC"
      },
      "source": [
        "## Divisão quantitativa de atletas em esportes com bolas:"
      ]
    },
    {
      "cell_type": "markdown",
      "metadata": {
        "id": "8ocqPSEEZ0tw"
      },
      "source": [
        "### Divisão quantitativa de atletas masculinos em esportes com bolas:"
      ]
    },
    {
      "cell_type": "code",
      "execution_count": null,
      "metadata": {
        "colab": {
          "base_uri": "https://localhost:8080/",
          "height": 823
        },
        "id": "5wVynC4scRa2",
        "outputId": "9f9e3260-fb68-4717-fded-573b3878a44c"
      },
      "outputs": [],
      "source": [
        "data_male_ball = data_male.query('Sport == \"Handball\" or Sport == \"Football\" or Sport == \"Basketball\" or Sport == \"Golf\" or Sport == \"Softball\" or Sport == \"Hockey\" or Sport == \"Volleyball\" or Sport == \"Table Tennis\" or Sport == \"Badminton\" or Sport == \"Rugby\" or Sport == \"Tennis\" or Sport == \"Beach Volleyball\" or Sport == \"Crocket\"')\n",
        "\n",
        "graf = sns.catplot(x = \"Sport\",\n",
        "            data = data_male_ball,\n",
        "            kind = \"count\",\n",
        "            height = 10,\n",
        "            aspect = 1.5\n",
        "            )\n",
        "ax = graf.axes[0, 0]\n",
        "ax.bar_label(ax.containers[0])"
      ]
    },
    {
      "cell_type": "markdown",
      "metadata": {
        "id": "prek-mLyZ3IQ"
      },
      "source": [
        "### Divisão quantitativa de atletas femininas em esportes com bolas:"
      ]
    },
    {
      "cell_type": "code",
      "execution_count": null,
      "metadata": {
        "colab": {
          "base_uri": "https://localhost:8080/",
          "height": 823
        },
        "id": "L21ytdEdcftL",
        "outputId": "a0790693-94ba-4394-bb69-bacc3375348e"
      },
      "outputs": [],
      "source": [
        "data_female_ball = data_female.query('Sport == \"Handball\" or Sport == \"Football\" or Sport == \"Basketball\" or Sport == \"Golf\" or Sport == \"Softball\" or Sport == \"Hockey\" or Sport == \"Volleyball\" or Sport == \"Table Tennis\" or Sport == \"Badminton\" or Sport == \"Rugby\" or Sport == \"Tennis\" or Sport == \"Beach Volleyball\" or Sport == \"Crocket\"')\n",
        "\n",
        "graf = sns.catplot(x = \"Sport\",\n",
        "            data = data_female_ball,\n",
        "            kind = \"count\",\n",
        "            height = 10,\n",
        "            aspect = 1.5\n",
        "            )\n",
        "ax = graf.axes[0, 0]\n",
        "ax.bar_label(ax.containers[0])"
      ]
    },
    {
      "cell_type": "markdown",
      "metadata": {
        "id": "8K5pjt8UowM6"
      },
      "source": [
        "### **Comentário:**\n",
        "Badminton, vôlei (tradicional e praia) e tênis de mesa são praticado por ambos sexos similarmente. Os esportes primeiramente masculinos são o basquetebol, futebol e hóquei. Softball é um esporte exclusivamente para mulheres."
      ]
    },
    {
      "cell_type": "markdown",
      "metadata": {
        "id": "o8gXw8JVnMLE"
      },
      "source": [
        "## Divisão quantitativa de atletas em esportes de combate:"
      ]
    },
    {
      "cell_type": "markdown",
      "metadata": {
        "id": "ihd87xaln95y"
      },
      "source": [
        "### Divisão quantitativa de atletas masculinos em esportes de combate:"
      ]
    },
    {
      "cell_type": "code",
      "execution_count": null,
      "metadata": {
        "colab": {
          "base_uri": "https://localhost:8080/",
          "height": 394
        },
        "id": "QfpZqS7Mnf2F",
        "outputId": "45735701-e582-4a34-c246-865f67744aad"
      },
      "outputs": [],
      "source": [
        "data_male_fight = data_male.query('Sport == \"Taekwondo\" or Sport == \"Fencing\" or Sport == \"Judo\" or Sport == \"Wrestling\" or Sport == \"Boxing\"')\n",
        "\n",
        "graf = sns.catplot(x = \"Sport\",\n",
        "            data = data_male_fight,\n",
        "            kind = \"count\",\n",
        "            height = 10,\n",
        "            aspect = 1\n",
        "            )\n",
        "ax = graf.axes[0, 0]\n",
        "ax.bar_label(ax.containers[0])"
      ]
    },
    {
      "cell_type": "markdown",
      "metadata": {
        "id": "eleMIPr1oDAn"
      },
      "source": [
        "### Divisão quantitativa de atletas femininas em esportes de combate:"
      ]
    },
    {
      "cell_type": "code",
      "execution_count": null,
      "metadata": {
        "colab": {
          "base_uri": "https://localhost:8080/",
          "height": 394
        },
        "id": "15rYVO8mnhk0",
        "outputId": "bb365693-ae77-453a-fd06-cd693badf411"
      },
      "outputs": [],
      "source": [
        "data_female_fight = data_female.query('Sport == \"Taekwondo\" or Sport == \"Fencing\" or Sport == \"Judo\" or Sport == \"Wrestling\" or Sport == \"Boxing\"')\n",
        "\n",
        "graf = sns.catplot(x = \"Sport\",\n",
        "            data = data_female_fight,\n",
        "            kind = \"count\",\n",
        "            height = 10,\n",
        "            aspect = 1.5\n",
        "            )\n",
        "ax = graf.axes[0, 0]\n",
        "ax.bar_label(ax.containers[0])"
      ]
    },
    {
      "cell_type": "markdown",
      "metadata": {
        "id": "yihJX3Xyo4vb"
      },
      "source": [
        "### **Comentário:**\n",
        "A quantidade de atletas em taekwondo é bastante similar em ambos os sexos, porém, os esportes de combate com maior concentração de mulheres são esgrima e judô. Já a quantidade de atletas masculinos ultrapassa significativamente em luta profissional, esgrima e boxe."
      ]
    },
    {
      "cell_type": "markdown",
      "metadata": {
        "id": "-EpS7ScnnTUB"
      },
      "source": [
        "## Divisão quantitativa de atletas em esportes clássicos:"
      ]
    },
    {
      "cell_type": "markdown",
      "metadata": {
        "id": "Ux2MpbP_oJ8i"
      },
      "source": [
        "### Divisão quantitativa de atletas masculinos em esportes clássicos:"
      ]
    },
    {
      "cell_type": "code",
      "execution_count": null,
      "metadata": {
        "colab": {
          "base_uri": "https://localhost:8080/",
          "height": 269
        },
        "id": "4HGmbbvcnphs",
        "outputId": "f2b41d8a-df7e-4ae2-f575-af960efb5b6f"
      },
      "outputs": [],
      "source": [
        "data_male_classics = data_male.query('Sport == \"Equestrianism\" or Sport == \"Archery\" or Sport == \"Shooting\" or Sport == \"Art competitions\" or Sport == \"Motorboating\"')\n",
        "\n",
        "graf = sns.catplot(x = \"Sport\",\n",
        "            data = data_male_classics,\n",
        "            kind = \"count\",\n",
        "            height = 10,\n",
        "            aspect = 1\n",
        "            )\n",
        "ax = graf.axes[0, 0]\n",
        "ax.bar_label(ax.containers[0])"
      ]
    },
    {
      "cell_type": "markdown",
      "metadata": {
        "id": "STPLt7HHoMkD"
      },
      "source": [
        "### Divisão quantitativa de atletas femininas em esportes clássicos:"
      ]
    },
    {
      "cell_type": "code",
      "execution_count": null,
      "metadata": {
        "colab": {
          "base_uri": "https://localhost:8080/",
          "height": 269
        },
        "id": "Jd1Vn9tvnsti",
        "outputId": "de11c0b6-0e44-4ac6-9e3a-47a5f1a1e390"
      },
      "outputs": [],
      "source": [
        "data_female_classics = data_female.query('Sport == \"Equestrianism\" or Sport == \"Archery\" or Sport == \"Shooting\" or Sport == \"Art competitions\" or Sport == \"Motorboating\"')\n",
        "\n",
        "graf = sns.catplot(x = \"Sport\",\n",
        "            data = data_female_classics,\n",
        "            kind = \"count\",\n",
        "            height = 10,\n",
        "            aspect = 1.5\n",
        "            )\n",
        "ax = graf.axes[0, 0]\n",
        "ax.bar_label(ax.containers[0])"
      ]
    },
    {
      "cell_type": "markdown",
      "metadata": {
        "id": "q-27RWTrpG-c"
      },
      "source": [
        "### **Comentário:**\n",
        "Vemos pouquissimas atletas femininas nos jogos clássicos, sendo todos sendo mais práticados por atletas masculinos.  "
      ]
    },
    {
      "cell_type": "markdown",
      "metadata": {
        "id": "2VHKO5YC7Oav"
      },
      "source": [
        "## Peso feminino:"
      ]
    },
    {
      "cell_type": "markdown",
      "metadata": {
        "id": "SqUCZ5gb4glE"
      },
      "source": [
        "### Peso de atletas femininas entre 0 até 40 kilos:"
      ]
    },
    {
      "cell_type": "code",
      "execution_count": null,
      "metadata": {
        "colab": {
          "base_uri": "https://localhost:8080/",
          "height": 966
        },
        "id": "OKxyvBMb4DMP",
        "outputId": "a4af3b6b-cab6-44ed-c5cc-73ce0b3ed73d"
      },
      "outputs": [],
      "source": [
        "weight_female_00_40 = data_female.query('Weight > 00 and Weight <= 40')\n",
        "\n",
        "graf = sns.catplot(x = \"Weight\",\n",
        "            data = weight_female_00_40,\n",
        "            kind = \"count\",\n",
        "            height = 10,\n",
        "            aspect = 1.5\n",
        "            )\n",
        "\n",
        "ax = graf.axes[0, 0]\n",
        "ax.bar_label(ax.containers[0])"
      ]
    },
    {
      "cell_type": "markdown",
      "metadata": {
        "id": "JnFWOXem4ocK"
      },
      "source": [
        "### Peso de atletas femininas acima de 40 até 50 kilos:"
      ]
    },
    {
      "cell_type": "code",
      "execution_count": null,
      "metadata": {
        "colab": {
          "base_uri": "https://localhost:8080/",
          "height": 894
        },
        "id": "HgNEIthQ4Fca",
        "outputId": "761dc67c-0785-4168-eab5-6bc12f3b729e"
      },
      "outputs": [],
      "source": [
        "weight_female_40_50 = data_female.query('Weight > 40 and Weight <= 50')\n",
        "\n",
        "graf = sns.catplot(x = \"Weight\",\n",
        "            data = weight_female_40_50,\n",
        "            kind = \"count\",\n",
        "            height = 10,\n",
        "            aspect = 1.5\n",
        "            )\n",
        "\n",
        "ax = graf.axes[0, 0]\n",
        "ax.bar_label(ax.containers[0])"
      ]
    },
    {
      "cell_type": "markdown",
      "metadata": {
        "id": "p8M34b7q4ve0"
      },
      "source": [
        "### Peso de atletas femininas acima de 50 até 60 kilos:"
      ]
    },
    {
      "cell_type": "code",
      "execution_count": null,
      "metadata": {
        "colab": {
          "base_uri": "https://localhost:8080/",
          "height": 1000
        },
        "id": "2JLbMNiA4H2k",
        "outputId": "a38ada3a-c961-4560-d86f-e268fac05de9"
      },
      "outputs": [],
      "source": [
        "weight_female_50_60 = data_female.query('Weight > 50 and Weight <= 60')\n",
        "\n",
        "graf = sns.catplot(x = \"Weight\",\n",
        "            data = weight_female_50_60,\n",
        "            kind = \"count\",\n",
        "            height = 10,\n",
        "            aspect = 1.5\n",
        "            )\n",
        "\n",
        "ax = graf.axes[0, 0]\n",
        "ax.bar_label(ax.containers[0])"
      ]
    },
    {
      "cell_type": "markdown",
      "metadata": {
        "id": "VVchetMF4ylP"
      },
      "source": [
        "### Peso de atletas femininas acima de 60 até 70 kilos:"
      ]
    },
    {
      "cell_type": "code",
      "execution_count": null,
      "metadata": {
        "colab": {
          "base_uri": "https://localhost:8080/",
          "height": 1000
        },
        "id": "qr2XFnoF4KDa",
        "outputId": "399f719b-2b1f-4433-eb51-f6092f62843e"
      },
      "outputs": [],
      "source": [
        "weight_female_60_70 = data_female.query('Weight > 60 and Weight <= 70')\n",
        "\n",
        "graf = sns.catplot(x = \"Weight\",\n",
        "            data = weight_female_60_70,\n",
        "            kind = \"count\",\n",
        "            height = 10,\n",
        "            aspect = 1.5\n",
        "            )\n",
        "\n",
        "ax = graf.axes[0, 0]\n",
        "ax.bar_label(ax.containers[0])"
      ]
    },
    {
      "cell_type": "markdown",
      "metadata": {
        "id": "LqTTeKKv42wk"
      },
      "source": [
        "### Peso de atletas femininas acima de 70 até 80 kilos:"
      ]
    },
    {
      "cell_type": "code",
      "execution_count": null,
      "metadata": {
        "colab": {
          "base_uri": "https://localhost:8080/",
          "height": 1000
        },
        "id": "0ZnuYxMH4MTE",
        "outputId": "6f4e24e6-3b80-4925-c809-7935cb3edfbe"
      },
      "outputs": [],
      "source": [
        "weight_female_70_80 = data_female.query('Weight > 70 and Weight <= 80')\n",
        "\n",
        "graf = sns.catplot(x = \"Weight\",\n",
        "            data = weight_female_70_80,\n",
        "            kind = \"count\",\n",
        "            height = 10,\n",
        "            aspect = 1.5\n",
        "            )\n",
        "\n",
        "ax = graf.axes[0, 0]\n",
        "ax.bar_label(ax.containers[0])"
      ]
    },
    {
      "cell_type": "markdown",
      "metadata": {
        "id": "MPoGMafr458E"
      },
      "source": [
        "### Peso de atletas femininas acima de 80 até 95 kilos:"
      ]
    },
    {
      "cell_type": "code",
      "execution_count": null,
      "metadata": {
        "colab": {
          "base_uri": "https://localhost:8080/",
          "height": 1000
        },
        "id": "wuXTYPsK4Osn",
        "outputId": "e14e8486-46c7-4d9b-c8c4-5057bb21263e"
      },
      "outputs": [],
      "source": [
        "weight_female_80_95 = data_female.query('Weight > 80 and Weight <= 95')\n",
        "\n",
        "graf = sns.catplot(x = \"Weight\",\n",
        "            data = weight_female_80_95,\n",
        "            kind = \"count\",\n",
        "            height = 10,\n",
        "            aspect = 1.5\n",
        "            )\n",
        "\n",
        "ax = graf.axes[0, 0]\n",
        "ax.bar_label(ax.containers[0])"
      ]
    },
    {
      "cell_type": "markdown",
      "metadata": {
        "id": "K7XN0KNJ49lc"
      },
      "source": [
        "### Peso de atletas femininas acima de 95 até 110 kilos:"
      ]
    },
    {
      "cell_type": "code",
      "execution_count": null,
      "metadata": {
        "colab": {
          "base_uri": "https://localhost:8080/",
          "height": 1000
        },
        "id": "vp9PB_j44Q7D",
        "outputId": "77af8c32-e048-4ac1-91b9-666bee342199"
      },
      "outputs": [],
      "source": [
        "weight_female_95_110 = data_female.query('Weight > 95 and Weight <= 110')\n",
        "\n",
        "graf = sns.catplot(x = \"Weight\",\n",
        "            data = weight_female_95_110,\n",
        "            kind = \"count\",\n",
        "            height = 10,\n",
        "            aspect = 1.5\n",
        "            )\n",
        "\n",
        "ax = graf.axes[0, 0]\n",
        "ax.bar_label(ax.containers[0])"
      ]
    },
    {
      "cell_type": "markdown",
      "metadata": {
        "id": "k5tCKDmJ5ARx"
      },
      "source": [
        "### Peso de atletas femininas acima de 110 até 125 kilos:"
      ]
    },
    {
      "cell_type": "code",
      "execution_count": null,
      "metadata": {
        "colab": {
          "base_uri": "https://localhost:8080/",
          "height": 1000
        },
        "id": "4idbsi354TSO",
        "outputId": "dc851ea6-cc35-457a-d9b9-06ac16ac2bc8"
      },
      "outputs": [],
      "source": [
        "weight_female_110_125 = data_female.query('Weight > 110 and Weight <= 125')\n",
        "\n",
        "graf = sns.catplot(x = \"Weight\",\n",
        "            data = weight_female_110_125,\n",
        "            kind = \"count\",\n",
        "            height = 10,\n",
        "            aspect = 1.5\n",
        "            )\n",
        "\n",
        "ax = graf.axes[0, 0]\n",
        "ax.bar_label(ax.containers[0])"
      ]
    },
    {
      "cell_type": "markdown",
      "metadata": {
        "id": "1wCYoN2_5DNv"
      },
      "source": [
        "### Peso de atletas femininas acima de 125 até 150 kilos:"
      ]
    },
    {
      "cell_type": "code",
      "execution_count": null,
      "metadata": {
        "colab": {
          "base_uri": "https://localhost:8080/",
          "height": 894
        },
        "id": "gLVAxzLJ4VqY",
        "outputId": "0f30748d-63c4-4101-e479-1cb03aea68f4"
      },
      "outputs": [],
      "source": [
        "weight_female_125_150 = data_female.query('Weight > 125 and Weight <= 150')\n",
        "\n",
        "graf = sns.catplot(x = \"Weight\",\n",
        "            data = weight_female_125_150,\n",
        "            kind = \"count\",\n",
        "            height = 10,\n",
        "            aspect = 1.5\n",
        "            )\n",
        "\n",
        "ax = graf.axes[0, 0]\n",
        "ax.bar_label(ax.containers[0])"
      ]
    },
    {
      "cell_type": "markdown",
      "metadata": {
        "id": "pokM0Ztrpyq1"
      },
      "source": [
        "### **Comentário:**\n",
        "É possível notar pelo gráfico de distribuição de peso feminino que há uma concentração maior entre 48.0 e 75.0 kg, principalmente por conta das modalidades em que as mulheres estão mais presentes (Atlética, Natação e Ginástica), pois estas modalidades possuem no peso um fator diferencial para a vitória."
      ]
    },
    {
      "cell_type": "markdown",
      "metadata": {
        "id": "J0_RtT-Q9L0I"
      },
      "source": [
        "## Idade feminina:"
      ]
    },
    {
      "cell_type": "markdown",
      "metadata": {
        "id": "cIrBf-cO53xB"
      },
      "source": [
        "### Idade de atletas femininas entre 0 até 25 anos:"
      ]
    },
    {
      "cell_type": "code",
      "execution_count": null,
      "metadata": {
        "colab": {
          "base_uri": "https://localhost:8080/",
          "height": 1000
        },
        "id": "xvMpOrm45TBc",
        "outputId": "24759d1c-0e38-4cbc-8cef-726a0f594029"
      },
      "outputs": [],
      "source": [
        "age_female_00_25 = data_female.query('Age > 00 and Age <= 25')\n",
        "\n",
        "graf = sns.catplot(x = \"Age\",\n",
        "            data = age_female_00_25,\n",
        "            kind = \"count\",\n",
        "            height = 10,\n",
        "            aspect = .9\n",
        "            )\n",
        "\n",
        "ax = graf.axes[0, 0]\n",
        "ax.bar_label(ax.containers[0])"
      ]
    },
    {
      "cell_type": "markdown",
      "metadata": {
        "id": "vuR1iTqw59lE"
      },
      "source": [
        "### Idade de atletas femininas acima de 25 até 40 anos:"
      ]
    },
    {
      "cell_type": "code",
      "execution_count": null,
      "metadata": {
        "colab": {
          "base_uri": "https://localhost:8080/",
          "height": 1000
        },
        "id": "j2_qhCEn5UHA",
        "outputId": "f5ee7a12-7458-4d3a-f705-1c6c99edb036"
      },
      "outputs": [],
      "source": [
        "age_female_25_40 = data_female.query('Age > 25 and Age <= 40')\n",
        "\n",
        "graf = sns.catplot(x = \"Age\",\n",
        "            data = age_female_25_40,\n",
        "            kind = \"count\",\n",
        "            height = 10,\n",
        "            aspect = .9\n",
        "            )\n",
        "\n",
        "ax = graf.axes[0, 0]\n",
        "ax.bar_label(ax.containers[0])"
      ]
    },
    {
      "cell_type": "markdown",
      "metadata": {
        "id": "6kt_5WCY6L-L"
      },
      "source": [
        "### Idade de atletas femininas acima de 40 até 60 anos:"
      ]
    },
    {
      "cell_type": "code",
      "execution_count": null,
      "metadata": {
        "colab": {
          "base_uri": "https://localhost:8080/",
          "height": 1000
        },
        "id": "TGUTsgQP5Wwo",
        "outputId": "350246ea-e030-4acb-cb20-a475eb671d11"
      },
      "outputs": [],
      "source": [
        "age_female_40_60 = data_female.query('Age > 40 and Age <= 60')\n",
        "\n",
        "graf = sns.catplot(x = \"Age\",\n",
        "            data = age_female_40_60,\n",
        "            kind = \"count\",\n",
        "            height = 10,\n",
        "            aspect = .9\n",
        "            )\n",
        "\n",
        "ax = graf.axes[0, 0]\n",
        "ax.bar_label(ax.containers[0])"
      ]
    },
    {
      "cell_type": "markdown",
      "metadata": {
        "id": "akAqS3VE6Oeo"
      },
      "source": [
        "### Idade de atletas femininas acima de 60 anos:"
      ]
    },
    {
      "cell_type": "code",
      "execution_count": null,
      "metadata": {
        "colab": {
          "base_uri": "https://localhost:8080/",
          "height": 894
        },
        "id": "NOXnBx_m5Zvk",
        "outputId": "63556427-5be4-49ab-af45-d0f18069b203"
      },
      "outputs": [],
      "source": [
        "age_female_60 = data_female.query('Age > 60')\n",
        "\n",
        "graf = sns.catplot(x = \"Age\",\n",
        "            data = age_female_60,\n",
        "            kind = \"count\",\n",
        "            height = 10,\n",
        "            aspect = .9\n",
        "            )\n",
        "\n",
        "ax = graf.axes[0, 0]\n",
        "ax.bar_label(ax.containers[0])"
      ]
    },
    {
      "cell_type": "markdown",
      "metadata": {
        "id": "fSPgP0lVqAtB"
      },
      "source": [
        "### **Comentário:**\n",
        "As idades mais comuns na categoria feminina estão entre 16 e 29 anos. Podemos ver uma queda brusca na quantidade de atletas femininas com 26 anos em diante, possivelmente devido a perda de performance e de competitividade em decorrência disto."
      ]
    },
    {
      "cell_type": "markdown",
      "metadata": {
        "id": "8Dl-Uyvb6jkU"
      },
      "source": [
        "## Distribuição de altura feminina:"
      ]
    },
    {
      "cell_type": "markdown",
      "metadata": {
        "id": "kKr8YyJV7DVz"
      },
      "source": [
        "### Altura de atletas femininas entre 1 metro até 1,40 metros:\n",
        "\n"
      ]
    },
    {
      "cell_type": "code",
      "execution_count": null,
      "metadata": {
        "colab": {
          "base_uri": "https://localhost:8080/",
          "height": 751
        },
        "id": "WMyZUgou6u-a",
        "outputId": "e74ae719-51c6-49a0-b1a9-0faa66c97819"
      },
      "outputs": [],
      "source": [
        "height_100_140 = data_female.query('Height > 100 and Height <= 140')\n",
        "\n",
        "graf = sns.catplot(x = \"Height\",\n",
        "            data = height_100_140,\n",
        "            kind = \"count\",\n",
        "            height = 10,\n",
        "            aspect = .9\n",
        "            )\n",
        "\n",
        "ax = graf.axes[0, 0]\n",
        "ax.bar_label(ax.containers[0])"
      ]
    },
    {
      "cell_type": "markdown",
      "metadata": {
        "id": "oV14cLe07Ms2"
      },
      "source": [
        "### Altura de atletas femininas acima de 1,40 metros até 1,50 metros:"
      ]
    },
    {
      "cell_type": "code",
      "execution_count": null,
      "metadata": {
        "colab": {
          "base_uri": "https://localhost:8080/",
          "height": 751
        },
        "id": "4lL6fAcL6yCf",
        "outputId": "ff344341-34d4-4c71-f69b-168c99ecaff7"
      },
      "outputs": [],
      "source": [
        "height_140_150 = data_female.query('Height > 140 and Height <= 150')\n",
        "\n",
        "graf = sns.catplot(x = \"Height\",\n",
        "            data = height_140_150,\n",
        "            kind = \"count\",\n",
        "            height = 10,\n",
        "            aspect = .9\n",
        "            )\n",
        "\n",
        "ax = graf.axes[0, 0]\n",
        "ax.bar_label(ax.containers[0])"
      ]
    },
    {
      "cell_type": "markdown",
      "metadata": {
        "id": "322jwEPb7Yvp"
      },
      "source": [
        "### Altura de atletas femininas acima de 1,50 metros até 1,65 metros:"
      ]
    },
    {
      "cell_type": "code",
      "execution_count": null,
      "metadata": {
        "colab": {
          "base_uri": "https://localhost:8080/",
          "height": 1000
        },
        "id": "8bzJslFZ605O",
        "outputId": "52429e44-8cea-4e72-c0ed-b5373bfc3c5a"
      },
      "outputs": [],
      "source": [
        "height_150_165 = data_female.query('Height > 150 and Height <= 165')\n",
        "\n",
        "graf = sns.catplot(x = \"Height\",\n",
        "            data = height_150_165,\n",
        "            kind = \"count\",\n",
        "            height = 10,\n",
        "            aspect = .9\n",
        "            )\n",
        "\n",
        "ax = graf.axes[0, 0]\n",
        "ax.bar_label(ax.containers[0])"
      ]
    },
    {
      "cell_type": "markdown",
      "metadata": {
        "id": "AZeGBIQl7kGc"
      },
      "source": [
        "### Altura de atletas femininas acima de 1,65 metros até 1,80 metros:"
      ]
    },
    {
      "cell_type": "code",
      "execution_count": null,
      "metadata": {
        "colab": {
          "base_uri": "https://localhost:8080/",
          "height": 1000
        },
        "id": "3uPRX4GJ638i",
        "outputId": "17e82b7b-5760-4f83-e7f6-37087c924514"
      },
      "outputs": [],
      "source": [
        "height_165_180 = data_female.query('Height > 165 and Height <= 180')\n",
        "\n",
        "graf = sns.catplot(x = \"Height\",\n",
        "            data = height_165_180,\n",
        "            kind = \"count\",\n",
        "            height = 10,\n",
        "            aspect = .9\n",
        "            )\n",
        "\n",
        "ax = graf.axes[0, 0]\n",
        "ax.bar_label(ax.containers[0])"
      ]
    },
    {
      "cell_type": "markdown",
      "metadata": {
        "id": "-6k17pwu7qYt"
      },
      "source": [
        "### Altura de atletas femininas acima de 1,80 metros até 2,00 metros:"
      ]
    },
    {
      "cell_type": "code",
      "execution_count": null,
      "metadata": {
        "colab": {
          "base_uri": "https://localhost:8080/",
          "height": 1000
        },
        "id": "awZf5VkT66hu",
        "outputId": "d6ec4008-ffe3-4a38-d19e-993d8fcb1365"
      },
      "outputs": [],
      "source": [
        "height_180_200 = data_female.query('Height > 180 and Height <= 200')\n",
        "\n",
        "graf = sns.catplot(x = \"Height\",\n",
        "            data = height_180_200,\n",
        "            kind = \"count\",\n",
        "            height = 10,\n",
        "            aspect = .9\n",
        "            )\n",
        "\n",
        "ax = graf.axes[0, 0]\n",
        "ax.bar_label(ax.containers[0])"
      ]
    },
    {
      "cell_type": "markdown",
      "metadata": {
        "id": "cSZTNHvQ7tW7"
      },
      "source": [
        "### Altura de atletas femininas acima de 2,00 metros:"
      ]
    },
    {
      "cell_type": "code",
      "execution_count": null,
      "metadata": {
        "colab": {
          "base_uri": "https://localhost:8080/",
          "height": 608
        },
        "id": "gs-GfIaS68uY",
        "outputId": "5f4ff7a0-1dba-4d2f-caed-9ac07ece76e3"
      },
      "outputs": [],
      "source": [
        "height_200_240 = data_female.query('Height > 200')\n",
        "\n",
        "graf = sns.catplot(x = \"Height\",\n",
        "            data = height_200_240,\n",
        "            kind = \"count\",\n",
        "            height = 10,\n",
        "            aspect = .9\n",
        "            )\n",
        "\n",
        "ax = graf.axes[0, 0]\n",
        "ax.bar_label(ax.containers[0])"
      ]
    },
    {
      "cell_type": "markdown",
      "metadata": {
        "id": "2wiFjdTxqLgV"
      },
      "source": [
        "### **Comentário:**\n",
        "Analisando o gráfico (medido em centímetros) é possível notar que há uma grande quantidade de mulheres com altura entre 1.58 e 1.80 metros, há uma correlação existente entre alturas maiores e desempenho, dependendo da modalidade, pois há uma vantagem competitiva por pessoas mais altas."
      ]
    },
    {
      "cell_type": "markdown",
      "metadata": {
        "id": "Hj3OWjpZ-pA-"
      },
      "source": [
        "## Relação entre idade e medalhas femininas:"
      ]
    },
    {
      "cell_type": "markdown",
      "metadata": {
        "id": "oj583l968wRt"
      },
      "source": [
        "### Distribuição de medalhas entre atletas femininas entre a idade de 0 até 15 anos:"
      ]
    },
    {
      "cell_type": "code",
      "execution_count": null,
      "metadata": {
        "colab": {
          "base_uri": "https://localhost:8080/",
          "height": 90
        },
        "id": "ny3g6OKZ8RPk",
        "outputId": "6311070f-0cf8-4999-8b19-afd97a123989"
      },
      "outputs": [],
      "source": [
        "medal_age_female_00_10 = data_female.query('Age > 0 and Age <= 15')\n",
        "\n",
        "fig = plt.figure(figsize=(50, 10))\n",
        "\n",
        "sns.countplot('Age',\n",
        "              hue='Medal', \n",
        "              data=medal_age_female_00_10)"
      ]
    },
    {
      "cell_type": "markdown",
      "metadata": {
        "id": "VwH02Y3J84eX"
      },
      "source": [
        "### Distribuição de medalhas entre atletas femininas acima da idade de 15 até 20 anos:"
      ]
    },
    {
      "cell_type": "code",
      "execution_count": null,
      "metadata": {
        "colab": {
          "base_uri": "https://localhost:8080/",
          "height": 90
        },
        "id": "cvy_S1rh8Sam",
        "outputId": "3243ca3c-0bd1-4702-8b77-99b67781ce29"
      },
      "outputs": [],
      "source": [
        "medal_age_female_15_20 = data_female.query('Age > 15 and Age <= 20')\n",
        "\n",
        "fig = plt.figure(figsize=(50, 10))\n",
        "\n",
        "sns.countplot('Age',\n",
        "              hue='Medal', \n",
        "              data=medal_age_female_15_20)"
      ]
    },
    {
      "cell_type": "markdown",
      "metadata": {
        "id": "GS7Oo5fW9ASc"
      },
      "source": [
        "### Distribuição de medalhas entre atletas femininas acima da idade de 20 até 25 anos:"
      ]
    },
    {
      "cell_type": "code",
      "execution_count": null,
      "metadata": {
        "colab": {
          "base_uri": "https://localhost:8080/",
          "height": 90
        },
        "id": "q73vDSBt8Wni",
        "outputId": "16c6a0df-9b11-4af8-a0fd-dbeee860cef0"
      },
      "outputs": [],
      "source": [
        "medal_age_female_20_25 = data_female.query('Age > 20 and Age <= 25')\n",
        "\n",
        "fig = plt.figure(figsize=(50, 10))\n",
        "\n",
        "sns.countplot('Age',\n",
        "              hue='Medal', \n",
        "              data=medal_age_female_20_25)"
      ]
    },
    {
      "cell_type": "markdown",
      "metadata": {
        "id": "zpmKRzrE9H1h"
      },
      "source": [
        "### Distribuição de medalhas entre atletas femininas acima da idade de 25 até 30 anos:"
      ]
    },
    {
      "cell_type": "code",
      "execution_count": null,
      "metadata": {
        "colab": {
          "base_uri": "https://localhost:8080/",
          "height": 90
        },
        "id": "jQG0arbF8aJf",
        "outputId": "d2046e88-772a-424a-d529-9ae91fa740a9"
      },
      "outputs": [],
      "source": [
        "medal_age_female_25_30 = data_female.query('Age > 25 and Age <= 30')\n",
        "\n",
        "fig = plt.figure(figsize=(50, 10))\n",
        "\n",
        "sns.countplot('Age',\n",
        "              hue='Medal', \n",
        "              data=medal_age_female_25_30)"
      ]
    },
    {
      "cell_type": "markdown",
      "metadata": {
        "id": "G30sxDom9MlZ"
      },
      "source": [
        "### Distribuição de medalhas entre atletas femininas acima da idade de 30 até 35 anos:"
      ]
    },
    {
      "cell_type": "code",
      "execution_count": null,
      "metadata": {
        "colab": {
          "base_uri": "https://localhost:8080/",
          "height": 90
        },
        "id": "jUKDkR4d8dGP",
        "outputId": "26c3b209-2dd3-4cc4-c705-19afe1fdda69"
      },
      "outputs": [],
      "source": [
        "medal_age_female_30_35 = data_female.query('Age > 30 and Age <= 35')\n",
        "\n",
        "fig = plt.figure(figsize=(50, 10))\n",
        "\n",
        "sns.countplot('Age',\n",
        "              hue='Medal', \n",
        "              data=medal_age_female_30_35)"
      ]
    },
    {
      "cell_type": "markdown",
      "metadata": {
        "id": "62YhyJa09Pra"
      },
      "source": [
        "### Distribuição de medalhas entre atletas femininas acima da idade de 35 até 40 anos:"
      ]
    },
    {
      "cell_type": "code",
      "execution_count": null,
      "metadata": {
        "colab": {
          "base_uri": "https://localhost:8080/",
          "height": 90
        },
        "id": "nYGARxvG8fvN",
        "outputId": "2b638935-3bbd-4d77-dd49-2c9251ebb0a1"
      },
      "outputs": [],
      "source": [
        "medal_age_female_35_40 = data_female.query('Age > 35 and Age <= 40')\n",
        "\n",
        "fig = plt.figure(figsize=(50, 10))\n",
        "\n",
        "sns.countplot('Age',\n",
        "              hue='Medal', \n",
        "              data=medal_age_female_35_40)"
      ]
    },
    {
      "cell_type": "markdown",
      "metadata": {
        "id": "RiqywM-B9SQI"
      },
      "source": [
        "### Distribuição de medalhas entre atletas femininas acima da idade de 45 até 50 anos:"
      ]
    },
    {
      "cell_type": "code",
      "execution_count": null,
      "metadata": {
        "colab": {
          "base_uri": "https://localhost:8080/",
          "height": 90
        },
        "id": "8unOSQ9L8iQF",
        "outputId": "a8e0c085-bdb8-467f-c4db-977b7154aa24"
      },
      "outputs": [],
      "source": [
        "medal_age_female_45_50 = data_female.query('Age > 45 and Age <= 50')\n",
        "\n",
        "fig = plt.figure(figsize=(50, 10))\n",
        "\n",
        "sns.countplot('Age',\n",
        "              hue='Medal', \n",
        "              data=medal_age_female_45_50)"
      ]
    },
    {
      "cell_type": "markdown",
      "metadata": {
        "id": "VZm3QeC79WC3"
      },
      "source": [
        "### Distribuição de medalhas entre atletas femininas acima da idade de 50 até 55 anos:"
      ]
    },
    {
      "cell_type": "code",
      "execution_count": null,
      "metadata": {
        "colab": {
          "base_uri": "https://localhost:8080/",
          "height": 90
        },
        "id": "2speyMRB8kxp",
        "outputId": "4c90fb12-d2c7-4c45-859d-cdcc5a0a1fb7"
      },
      "outputs": [],
      "source": [
        "medal_age_female_50_55 = data_female.query('Age > 50 and Age <= 55')\n",
        "\n",
        "fig = plt.figure(figsize=(50, 10))\n",
        "\n",
        "sns.countplot('Age',\n",
        "              hue='Medal', \n",
        "              data=medal_age_female_50_55)"
      ]
    },
    {
      "cell_type": "markdown",
      "metadata": {
        "id": "C4m8MhDA9ZZU"
      },
      "source": [
        "### Distribuição de medalhas entre atletas femininas acima da idade de 55 até 60 anos:"
      ]
    },
    {
      "cell_type": "code",
      "execution_count": null,
      "metadata": {
        "colab": {
          "base_uri": "https://localhost:8080/",
          "height": 90
        },
        "id": "bh6Fulev8nJ6",
        "outputId": "139809cb-29ce-4bd9-cc6c-460b6ad4b7fd"
      },
      "outputs": [],
      "source": [
        "medal_age_female_55_60 = data_female.query('Age > 55 and Age <= 60')\n",
        "\n",
        "fig = plt.figure(figsize=(50, 10))\n",
        "\n",
        "sns.countplot('Age',\n",
        "              hue='Medal', \n",
        "              data=medal_age_female_55_60)"
      ]
    },
    {
      "cell_type": "markdown",
      "metadata": {
        "id": "f86d3Ux49crV"
      },
      "source": [
        "### Distribuição de medalhas entre atletas femininas acima da idade de 60 anos:"
      ]
    },
    {
      "cell_type": "code",
      "execution_count": null,
      "metadata": {
        "colab": {
          "base_uri": "https://localhost:8080/",
          "height": 90
        },
        "id": "EbC9WR4m8pUo",
        "outputId": "b0ba2376-2612-4c48-d1e0-e749cf4181ed"
      },
      "outputs": [],
      "source": [
        "medal_age_female_60 = data_female.query('Age > 60')\n",
        "\n",
        "fig = plt.figure(figsize=(50, 10))\n",
        "\n",
        "sns.countplot('Age',\n",
        "              hue='Medal', \n",
        "              data=medal_age_female_60)"
      ]
    },
    {
      "cell_type": "markdown",
      "metadata": {
        "id": "yQrCah1lqwtS"
      },
      "source": [
        "### **Comentário:**\n",
        "Analisando o gráfico é possível notar que a faixa etária que mais ganha medalhas dentre todos os tipos, fica entre 20 e 29 anos, e isso possivelmente está atrelado tanto a quantidade de atletas quanto ao fato de essa ser a idade que se tem o maior rendimento nas provas."
      ]
    },
    {
      "cell_type": "markdown",
      "metadata": {
        "id": "4edX72H59j2h"
      },
      "source": [
        "## Distribuição feminina entre países:"
      ]
    },
    {
      "cell_type": "markdown",
      "metadata": {
        "id": "7HPNrFGp-l4M"
      },
      "source": [
        "### Americas"
      ]
    },
    {
      "cell_type": "markdown",
      "metadata": {
        "id": "mcJGswxu-C14"
      },
      "source": [
        "#### North America\n",
        "\n",
        "+ CAN/NFL - Canada\n",
        "+ MEX - Mexico\n",
        "+ USA/GUM - United States of America\n",
        "+ PUR - Puerto Rico\n",
        "+ ISV - US Virgin Islands"
      ]
    },
    {
      "cell_type": "code",
      "execution_count": null,
      "metadata": {
        "colab": {
          "base_uri": "https://localhost:8080/",
          "height": 465
        },
        "id": "BVQr0iCd-AGJ",
        "outputId": "1feed0a6-a336-421d-aeba-1d846fcdd874"
      },
      "outputs": [],
      "source": [
        "north_america = data_female.query('NOC == \"CAN\" or NOC == \"NFL\" or NOC == \"MEX\" or NOC == \"USA\" or NOC == \"GUM\" or NOC == \"PUR\" or NOC == \"ISV\"')\n",
        "\n",
        "graf = sns.catplot(x = \"NOC\",\n",
        "            data = north_america,\n",
        "            kind = \"count\",\n",
        "            height = 10,\n",
        "            aspect = .9\n",
        "            )\n",
        "ax = graf.axes[0, 0]\n",
        "ax.bar_label(ax.containers[0])"
      ]
    },
    {
      "cell_type": "markdown",
      "metadata": {
        "id": "Cho7KGA8-LAD"
      },
      "source": [
        "#### Central America\n",
        "\n",
        "+ ANT - Antigua and Barbuda\n",
        "+ DOM - Dominican Republic\n",
        "+ CUB - Cuba\n",
        "+ HAI - Haiti\n",
        "+ BIZ - Belize\n",
        "+ CRC - Costa Rica\n",
        "+ ESA - El Salvador\n",
        "+ GUA - Guatemala\n",
        "+ GRN - Grenade\n",
        "+ HON - Honduras\n",
        "+ NCA - Nicaragua\n",
        "+ PAN - Panama\n",
        "+ JAM - Jamaica\n",
        "+ BAH - Bahamas\n",
        "+ BAR - Barbados\n",
        "+ DMA - Dominica\n",
        "+ LCA - Saint Lucia\n",
        "+ SKN - Saint Kitts\n",
        "+ VIN - Saint Vincent\n",
        "+ WIF - West Indies Federation"
      ]
    },
    {
      "cell_type": "code",
      "execution_count": null,
      "metadata": {
        "colab": {
          "base_uri": "https://localhost:8080/",
          "height": 1000
        },
        "id": "xiGqPRLQ-OjA",
        "outputId": "f9e37e2a-aff8-411c-cd18-a537c58a11e0"
      },
      "outputs": [],
      "source": [
        "central_america = data_female.query('NOC == \"ANT\" or NOC == \"DOM\" or NOC == \"CUB\" or NOC == \"HAI\" or NOC == \"BIZ\" or NOC == \"CRC\" or NOC == \"ESA\" or NOC == \"GUA\" or NOC == \"GRN\" or NOC == \"HON\" or NOC == \"NCA\" or NOC == \"PAN\" or NOC == \"JAM\" or NOC == \"BAH\" or NOC == \"BAR\" or NOC == \"DMA\" or NOC == \"LCA\" or NOC == \"SKN\" or NOC == \"VIN\" or NOC == \"WIF\"')\n",
        "\n",
        "graf = sns.catplot(x = \"NOC\",\n",
        "            data = central_america,\n",
        "            kind = \"count\",\n",
        "            height = 10,\n",
        "            aspect = .9\n",
        "            )\n",
        "ax = graf.axes[0, 0]\n",
        "ax.bar_label(ax.containers[0])"
      ]
    },
    {
      "cell_type": "markdown",
      "metadata": {
        "id": "6cL5RPSX-Q01"
      },
      "source": [
        "#### South America\n",
        "\n",
        "+ BRA - Brazil\n",
        "+ ARG - Argentina\n",
        "+ BOL - Bolivia\n",
        "+ CHI - Chile\n",
        "+ COL - Colombia\n",
        "+ ECU - Ecuador\n",
        "+ GUY - Guyana\n",
        "+ PAR - Paraguay\n",
        "+ PER - Peru\n",
        "+ SUR - Suriname\n",
        "+ TTO - Trinidad and Tobago\n",
        "+ URU - Uruguay\n",
        "+ VEN - Venezuela"
      ]
    },
    {
      "cell_type": "code",
      "execution_count": null,
      "metadata": {
        "colab": {
          "base_uri": "https://localhost:8080/",
          "height": 966
        },
        "id": "1pMVOyxE-T5I",
        "outputId": "ce4bd2fa-4b06-4f0f-ff41-8f06807a3261"
      },
      "outputs": [],
      "source": [
        "south_america = data_female.query('NOC == \"BRA\" or NOC == \"ARG\" or NOC == \"BOL\" or NOC == \"CHI\" or NOC == \"COL\" or NOC == \"ECU\" or NOC == \"GUY\" or NOC == \"PAR\" or NOC == \"PER\" or NOC == \"SUR\" or NOC == \"TTO\" or NOC == \"URU\" or NOC == \"VEN\"')\n",
        "\n",
        "graf = sns.catplot(x = \"NOC\",\n",
        "            data = south_america,\n",
        "            kind = \"count\",\n",
        "            height = 10,\n",
        "            aspect = .9\n",
        "            )\n",
        "ax = graf.axes[0, 0]\n",
        "ax.bar_label(ax.containers[0])"
      ]
    },
    {
      "cell_type": "markdown",
      "metadata": {
        "id": "mM6uw90G-Wfc"
      },
      "source": [
        "### Europe"
      ]
    },
    {
      "cell_type": "markdown",
      "metadata": {
        "id": "tXBmjxLu-yxE"
      },
      "source": [
        "#### Eastern Europe\n",
        "\n",
        "+ URS/EUN/RUS - Russia\n",
        "+ UKR - Ukraine\n",
        "+ POL - Poland\n",
        "+ ROU - Romania\n",
        "+ BOH/CZE/TCH - Czech Republic\n",
        "+ HUN - Hungary\n",
        "+ BLR - Belarus\n",
        "+ BUL - Bulgaria\n",
        "+ SVK - Slovakia\n",
        "+ MDA - Moldova"
      ]
    },
    {
      "cell_type": "code",
      "execution_count": null,
      "metadata": {
        "colab": {
          "base_uri": "https://localhost:8080/",
          "height": 1000
        },
        "id": "AWqJkfMq-5hK",
        "outputId": "c0d0ed88-5048-4ca9-f66f-587775696273"
      },
      "outputs": [],
      "source": [
        "eastern_europe = data_female.query('NOC == \"URS\" or NOC == \"EUN\" or NOC == \"RUS\" or NOC == \"UKR\" or NOC == \"POL\" or NOC == \"ROU\" or NOC == \"BOH\" or NOC == \"CZE\" or NOC == \"TCH\" or NOC == \"HUN\" or NOC == \"BLR\" or NOC == \"BUL\" or NOC == \"SVK\" or NOC == \"MDA\"')\n",
        "\n",
        "graf = sns.catplot(x = \"NOC\",\n",
        "            data = eastern_europe,\n",
        "            kind = \"count\",\n",
        "            height = 10,\n",
        "            aspect = .9\n",
        "            )\n",
        "ax = graf.axes[0, 0]\n",
        "ax.bar_label(ax.containers[0])"
      ]
    },
    {
      "cell_type": "markdown",
      "metadata": {
        "id": "P5tr912__N4q"
      },
      "source": [
        "#### Northern Europe\n",
        "\n",
        "+ GBR/BER/CAY/IVB - United Kingdom\n",
        "+ SWE - Sweden\n",
        "+ DEN - Denmark\n",
        "+ FIN - Finland\n",
        "+ NOR - Norway\n",
        "+ IRL - Ireland\n",
        "+ LTU - Lithuania\n",
        "+ LAT - Latvia\n",
        "+ EST - Estonia\n",
        "+ ISL - Iceland"
      ]
    },
    {
      "cell_type": "code",
      "execution_count": null,
      "metadata": {
        "colab": {
          "base_uri": "https://localhost:8080/",
          "height": 966
        },
        "id": "PAWuj9AV_RhB",
        "outputId": "a899ea75-4140-4f35-d136-c5cb418e0400"
      },
      "outputs": [],
      "source": [
        "northern_europe = data_female.query('NOC == \"GBR\" or NOC == \"BER\" or NOC == \"CAY\" or NOC == \"IVB\" or NOC == \"SWE\" or NOC == \"DEN\" or NOC == \"FIN\" or NOC == \"NOR\" or NOC == \"IRL\" or NOC == \"LTU\" or NOC == \"LAT\" or NOC == \"EST\" or NOC == \"ISL\"')\n",
        "\n",
        "graf = sns.catplot(x = \"NOC\",\n",
        "            data = northern_europe,\n",
        "            kind = \"count\",\n",
        "            height = 10,\n",
        "            aspect = .9\n",
        "            )\n",
        "\n",
        "ax = graf.axes[0, 0]\n",
        "ax.bar_label(ax.containers[0])"
      ]
    },
    {
      "cell_type": "markdown",
      "metadata": {
        "id": "ThdtM4Xc_Ulq"
      },
      "source": [
        "#### Southern Europe\n",
        "\n",
        "+ ITA - Italy\n",
        "+ ESP - Spain\n",
        "+ GRE/CRT - Greece\n",
        "+ POR - Portugal\n",
        "+ SCG/SRB/YUG - Serbia\n",
        "+ CRO - Croatia\n",
        "+ BIH - Bosnia and Herzegovina\n",
        "+ ALB - Albania\n",
        "+ MKD - North Macedonia\n",
        "+ SLO - Slovenia\n",
        "+ KOS - Kosovo\n",
        "+ MNE - Montenegro\n",
        "+ MLT - Malta\n",
        "+ AND - Andorra\n",
        "+ SMR - San Marino"
      ]
    },
    {
      "cell_type": "code",
      "execution_count": null,
      "metadata": {
        "colab": {
          "base_uri": "https://localhost:8080/",
          "height": 1000
        },
        "id": "LQ2wXvlQ_YCg",
        "outputId": "49433efd-20ea-4666-9228-c8385e35ab72"
      },
      "outputs": [],
      "source": [
        "southern_europe = data_female.query('NOC == \"ITA\" or NOC == \"ESP\" or NOC == \"GRE\" or NOC == \"CRT\" or NOC == \"POR\" or NOC == \"SCG\" or NOC == \"SRB\" or NOC == \"YUG\" or NOC == \"CRO\" or NOC == \"BIH\" or NOC == \"ALB\" or NOC == \"MKD\" or NOC == \"SLO\" or NOC == \"KOS\" or NOC == \"MNE\" or NOC == \"MLT\" or NOC == \"AND\" or NOC == \"SMR\"')\n",
        "\n",
        "graf = sns.catplot(x = \"NOC\",\n",
        "            data = southern_europe,\n",
        "            kind = \"count\",\n",
        "            height = 10,\n",
        "            aspect = .9\n",
        "            )\n",
        "\n",
        "ax = graf.axes[0, 0]\n",
        "ax.bar_label(ax.containers[0])"
      ]
    },
    {
      "cell_type": "markdown",
      "metadata": {
        "id": "7Jd3f0kd_aop"
      },
      "source": [
        "#### Western Europe\n",
        "\n",
        "+ FRG/GDR/GER/SAA - Germany\n",
        "+ FRA - France\n",
        "+ NED/AHO/ARU - Netherlands\n",
        "+ BEL - Belgium\n",
        "+ AUT - Austria\n",
        "+ SUI - Switzerland\n",
        "+ LUX - Luxembourg\n",
        "+ MON - Monaco\n",
        "+ LIE - Liechtenstein"
      ]
    },
    {
      "cell_type": "code",
      "execution_count": null,
      "metadata": {
        "colab": {
          "base_uri": "https://localhost:8080/",
          "height": 1000
        },
        "id": "Avv997my_e-t",
        "outputId": "b586905d-8a0d-4e7c-c376-9c4250c3d373"
      },
      "outputs": [],
      "source": [
        "western_europe = data_female.query('NOC == \"FRG\" or NOC == \"GDR\" or NOC == \"GER\" or NOC == \"SAA\" or NOC == \"FRA\" or NOC == \"NED\" or NOC == \"AHO\" or NOC == \"ARU\" or NOC == \"BEL\" or NOC == \"AUT\" or NOC == \"SUI\" or NOC == \"LUX\" or NOC == \"MON\" or NOC == \"LIE\"')\n",
        "\n",
        "graf = sns.catplot(x = \"NOC\",\n",
        "            data = western_europe,\n",
        "            kind = \"count\",\n",
        "            height = 10,\n",
        "            aspect = .9\n",
        "            )\n",
        "\n",
        "ax = graf.axes[0, 0]\n",
        "ax.bar_label(ax.containers[0])"
      ]
    },
    {
      "cell_type": "markdown",
      "metadata": {
        "id": "oMU8sVLR_j5m"
      },
      "source": [
        "### Africa"
      ]
    },
    {
      "cell_type": "markdown",
      "metadata": {
        "id": "7ccB17ZA_xj5"
      },
      "source": [
        "#### Northern Africa\n",
        "\n",
        "+ ALG - Algeria\n",
        "+ EGY - Egypt\n",
        "+ LBA - Libya\n",
        "+ MAR - Morocco\n",
        "+ SUD - Sudan\n",
        "+ TUN - Tunisia"
      ]
    },
    {
      "cell_type": "code",
      "execution_count": null,
      "metadata": {
        "colab": {
          "base_uri": "https://localhost:8080/",
          "height": 465
        },
        "id": "HIj9YR3a_4B-",
        "outputId": "3794f80d-7bba-4ded-d099-5662ec857a6c"
      },
      "outputs": [],
      "source": [
        "northern_africa = data_female.query('NOC == \"ALG\" or NOC == \"EGY\" or NOC == \"LBA\" or NOC == \"MAR\" or NOC == \"SUD\" or NOC == \"TUN\"')\n",
        "\n",
        "graf = sns.catplot(x = \"NOC\",\n",
        "            data = northern_africa,\n",
        "            kind = \"count\",\n",
        "            height = 10,\n",
        "            aspect = .9\n",
        "            )\n",
        "\n",
        "ax = graf.axes[0, 0]\n",
        "ax.bar_label(ax.containers[0])"
      ]
    },
    {
      "cell_type": "markdown",
      "metadata": {
        "id": "2ZLrkbXh_6yO"
      },
      "source": [
        "#### Eastern Africa\n",
        "\n",
        "+ BDI - Burundi\n",
        "+ COM - Comoros\n",
        "+ DJI - Djibouti\n",
        "+ ERI - Eritrea\n",
        "+ ETH - Ethiopia\n",
        "+ KEN - Kenya\n",
        "+ MAW - Malawi\n",
        "+ MRI - Mauritius\n",
        "+ MOZ - Mozambique\n",
        "+ RWA - Rwanda\n",
        "+ SEY - Seychelles\n",
        "+ SOM - Somalia\n",
        "+ SSD - South Sudan\n",
        "+ TAN - Tanzania\n",
        "+ UGA - Uganda\n",
        "+ ZAM - Zambia\n",
        "+ RHO/ZIM - Zimbabwe"
      ]
    },
    {
      "cell_type": "code",
      "execution_count": null,
      "metadata": {
        "colab": {
          "base_uri": "https://localhost:8080/",
          "height": 1000
        },
        "id": "bgCamhBA_-ep",
        "outputId": "9d91a004-0c3e-4ef3-d207-06c2e7e03a43"
      },
      "outputs": [],
      "source": [
        "eastern_africa = data_female.query('NOC == \"BDI\" or NOC == \"COM\" or NOC == \"DJI\" or NOC == \"ERI\" or NOC == \"ETH\" or NOC == \"KEN\" or NOC == \"MAW\" or NOC == \"MRI\" or NOC == \"MOZ\" or NOC == \"RWA\" or NOC == \"SEY\" or NOC == \"SOM\" or NOC == \"SSD\" or NOC == \"TAN\" or NOC == \"UGA\" or NOC == \"ZAM\" or NOC == \"RHO\" or NOC == \"ZIM\"')\n",
        "\n",
        "graf = sns.catplot(x = \"NOC\",\n",
        "            data = eastern_africa,\n",
        "            kind = \"count\",\n",
        "            height = 10,\n",
        "            aspect = .9\n",
        "            )\n",
        "\n",
        "ax = graf.axes[0, 0]\n",
        "ax.bar_label(ax.containers[0])"
      ]
    },
    {
      "cell_type": "markdown",
      "metadata": {
        "id": "l4Freg8OABVL"
      },
      "source": [
        "#### Middle Africa\n",
        "\n",
        "+ ANG - Angola\n",
        "+ CMR - Cameroon\n",
        "+ CAF - Central African Republic\n",
        "+ CHA - Chad\n",
        "+ COD - Democratic Republic of the Congo\n",
        "+ CGO - Republic of the Congo\n",
        "+ GEQ - Equatorial Guinea\n",
        "+ GAB - Gabon\n",
        "+ STP - São Tomé and Príncipe"
      ]
    },
    {
      "cell_type": "code",
      "execution_count": null,
      "metadata": {
        "colab": {
          "base_uri": "https://localhost:8080/",
          "height": 680
        },
        "id": "uMeQXi_DAFIJ",
        "outputId": "ea56f43e-5495-4f3c-b9f1-2801ca3b4fa5"
      },
      "outputs": [],
      "source": [
        "middle_africa = data_female.query('NOC == \"ANG\" or NOC == \"CMR\" or NOC == \"CAF\" or NOC == \"CHA\" or NOC == \"COD\" or NOC == \"CGO\" or NOC == \"GEQ\" or NOC == \"GAB\" or NOC == \"STP\"')\n",
        "\n",
        "graf = sns.catplot(x = \"NOC\",\n",
        "            data = middle_africa,\n",
        "            kind = \"count\",\n",
        "            height = 10,\n",
        "            aspect = .9\n",
        "            )\n",
        "\n",
        "ax = graf.axes[0, 0]\n",
        "ax.bar_label(ax.containers[0])"
      ]
    },
    {
      "cell_type": "markdown",
      "metadata": {
        "id": "hZRNcyOdAI0M"
      },
      "source": [
        "#### Southern Africa\n",
        "\n",
        "+ BOT - Botswana\n",
        "+ SWZ - Eswatini (Swaziland)\n",
        "+ LES - Lesotho\n",
        "+ MAD - Madagascar\n",
        "+ NAM - Namibia\n",
        "+ RSA - South Africa"
      ]
    },
    {
      "cell_type": "code",
      "execution_count": null,
      "metadata": {
        "colab": {
          "base_uri": "https://localhost:8080/",
          "height": 465
        },
        "id": "KgC49iSoAPSX",
        "outputId": "18987614-abf8-4a0f-9014-053f03d05e66"
      },
      "outputs": [],
      "source": [
        "southern_africa = data_female.query('NOC == \"BOT\" or NOC == \"SWZ\" or NOC == \"LES\" or NOC == \"MAD\" or NOC == \"NAM\" or NOC == \"RSA\"')\n",
        "\n",
        "graf = sns.catplot(x = \"NOC\",\n",
        "            data = southern_africa,\n",
        "            kind = \"count\",\n",
        "            height = 10,\n",
        "            aspect = .9\n",
        "            )\n",
        "\n",
        "ax = graf.axes[0, 0]\n",
        "ax.bar_label(ax.containers[0])"
      ]
    },
    {
      "cell_type": "markdown",
      "metadata": {
        "id": "AZLINHgJARz7"
      },
      "source": [
        "#### Western Africa\n",
        "\n",
        "+ BEN - Benin\n",
        "+ BUR - Burkina Faso\n",
        "+ CPV - Cape Verde\n",
        "+ CIV - Côte d'Ivoire (Ivory Coast)\n",
        "+ GAM - Gambia\n",
        "+ GHA - Ghana\n",
        "+ GUI - Guinea\n",
        "+ GBS - Guinea-Bissau\n",
        "+ LBR - Liberia\n",
        "+ MLI - Mali\n",
        "+ MTN - Mauritania\n",
        "+ NIG - Niger\n",
        "+ NGR - Nigeria\n",
        "+ SEN - Senegal\n",
        "+ SLE - Sierra Leone\n",
        "+ TOG - Togo"
      ]
    },
    {
      "cell_type": "code",
      "execution_count": null,
      "metadata": {
        "colab": {
          "base_uri": "https://localhost:8080/",
          "height": 1000
        },
        "id": "Sl4W_C1TAWbM",
        "outputId": "bca55e2e-a08d-443d-e301-afc7baebcaf7"
      },
      "outputs": [],
      "source": [
        "western_africa = data_female.query('NOC == \"BEN\" or NOC == \"BUR\" or NOC == \"CPV\" or NOC == \"CIV\" or NOC == \"GAM\" or NOC == \"GHA\" or NOC == \"GUI\" or NOC == \"GBS\" or NOC == \"LBR\" or NOC == \"MLI\" or NOC == \"MTN\" or NOC == \"NIG\" or NOC == \"NGR\" or NOC == \"SEN\" or NOC == \"SLE\" or NOC == \"TOG\"')\n",
        "\n",
        "graf = sns.catplot(x = \"NOC\",\n",
        "            data = western_africa,\n",
        "            kind = \"count\",\n",
        "            height = 10,\n",
        "            aspect = .9\n",
        "            )\n",
        "\n",
        "ax = graf.axes[0, 0]\n",
        "ax.bar_label(ax.containers[0])"
      ]
    },
    {
      "cell_type": "markdown",
      "metadata": {
        "id": "CFj6BLvNActw"
      },
      "source": [
        "### Middle East and Asia"
      ]
    },
    {
      "cell_type": "markdown",
      "metadata": {
        "id": "zdqpiZMuAiWB"
      },
      "source": [
        "#### Middle East\n",
        "\n",
        "+ BRN - Bahrain\n",
        "+ CYP - Cyprus\n",
        "+ IRI - Iran\n",
        "+ IRQ - Iraq\n",
        "+ ISR - Israel\n",
        "+ JOR - Jordan\n",
        "+ KUW - Kuwait\n",
        "+ LIB - Lebanon\n",
        "+ OMA - Oman\n",
        "+ PLE - Palestine\n",
        "+ QAT - Qatar\n",
        "+ KSA - Saudi Arabia\n",
        "+ SYR/UAR - Syria\n",
        "+ TUR - Turkey\n",
        "+ UAE - United Arab Emirates\n",
        "+ YAR/YEM/YMD - Yemen"
      ]
    },
    {
      "cell_type": "code",
      "execution_count": null,
      "metadata": {
        "colab": {
          "base_uri": "https://localhost:8080/",
          "height": 1000
        },
        "id": "aV1JeKeYAcSy",
        "outputId": "b012af3a-169f-4895-b23d-c576d4f9d563"
      },
      "outputs": [],
      "source": [
        "middle_east = data_female.query('NOC == \"BRN\" or NOC == \"CYP\" or NOC == \"IRI\" or NOC == \"IRQ\" or NOC == \"ISR\" or NOC == \"JOR\" or NOC == \"KUW\" or NOC == \"LIB\" or NOC == \"OMA\" or NOC == \"PLE\" or NOC == \"QAT\" or NOC == \"KSA\" or NOC == \"SYR\" or NOC == \"UAR\" or NOC == \"TUR\" or NOC == \"UAE\" or NOC == \"YAR\" or NOC == \"YEM\" or NOC == \"YMD\"')\n",
        "\n",
        "graf = sns.catplot(x = \"NOC\",\n",
        "            data = middle_east,\n",
        "            kind = \"count\",\n",
        "            height = 10,\n",
        "            aspect = .9\n",
        "            )\n",
        "\n",
        "ax = graf.axes[0, 0]\n",
        "ax.bar_label(ax.containers[0])"
      ]
    },
    {
      "cell_type": "markdown",
      "metadata": {
        "id": "Ao7__eAxAppH"
      },
      "source": [
        "#### Central Asia\n",
        "\n",
        "+ KAZ - Kazakhstan\n",
        "+ KGZ - Kyrgyzstan\n",
        "+ TJK - Tajikistan\n",
        "+ TKM - Turkmenistan\n",
        "+ UZB - Uzbekistan"
      ]
    },
    {
      "cell_type": "code",
      "execution_count": null,
      "metadata": {
        "colab": {
          "base_uri": "https://localhost:8080/",
          "height": 394
        },
        "id": "3N8ivlqkAtZj",
        "outputId": "968a51e4-caef-4d13-dce2-b28644c06b05"
      },
      "outputs": [],
      "source": [
        "central_asia = data_female.query('NOC == \"KAZ\" or NOC == \"KGZ\" or NOC == \"TJK\" or NOC == \"TKM\" or NOC == \"UZB\"')\n",
        "\n",
        "graf = sns.catplot(x = \"NOC\",\n",
        "            data = central_asia,\n",
        "            kind = \"count\",\n",
        "            height = 10,\n",
        "            aspect = .9\n",
        "            )\n",
        "\n",
        "ax = graf.axes[0, 0]\n",
        "ax.bar_label(ax.containers[0])"
      ]
    },
    {
      "cell_type": "markdown",
      "metadata": {
        "id": "Qgf6ks_LAwDw"
      },
      "source": [
        "#### East Asia\n",
        "\n",
        "+ CHN - China\n",
        "+ MGL - Mongolia\n",
        "+ PRK - North Korea\n",
        "+ KOR - South Korea\n",
        "+ JPN - Japan\n",
        "+ HKG - Hong Kong\n",
        "+ TPE - Taiwan"
      ]
    },
    {
      "cell_type": "code",
      "execution_count": null,
      "metadata": {
        "colab": {
          "base_uri": "https://localhost:8080/",
          "height": 537
        },
        "id": "z8EkdMjhAzFS",
        "outputId": "d051f227-5df9-498d-a555-b95778ed654b"
      },
      "outputs": [],
      "source": [
        "east_asia = data_female.query('NOC == \"CHN\" or NOC == \"MGL\" or NOC == \"PRK\" or NOC == \"KOR\" or NOC == \"JPN\" or NOC == \"HKG\" or NOC == \"TPE\"')\n",
        "\n",
        "graf = sns.catplot(x = \"NOC\",\n",
        "            data = east_asia,\n",
        "            kind = \"count\",\n",
        "            height = 10,\n",
        "            aspect = .9\n",
        "            )\n",
        "\n",
        "ax = graf.axes[0, 0]\n",
        "ax.bar_label(ax.containers[0])"
      ]
    },
    {
      "cell_type": "markdown",
      "metadata": {
        "id": "Pt1VIuQyA18l"
      },
      "source": [
        "#### South Asia \n",
        "\n",
        "+ SRI - Sri Lanka\n",
        "+ BAN - Bangladesh\n",
        "+ IND - India\n",
        "+ AFG - Afghanistan\n",
        "+ PAK - Pakistan\n",
        "+ BHU - Bhutan\n",
        "+ NEP - Nepal\n",
        "+ MDV - Maldives"
      ]
    },
    {
      "cell_type": "code",
      "execution_count": null,
      "metadata": {
        "colab": {
          "base_uri": "https://localhost:8080/",
          "height": 608
        },
        "id": "uJylzXd2A-Pd",
        "outputId": "02978f06-dc06-4b31-aab7-c5f888397114"
      },
      "outputs": [],
      "source": [
        "south_asia = data_female.query('NOC == \"SRI\" or NOC == \"BAN\" or NOC == \"IND\" or NOC == \"AFG\" or NOC == \"PAK\" or NOC == \"BHU\" or NOC == \"NEP\" or NOC == \"MDV\"')\n",
        "\n",
        "graf = sns.catplot(x = \"NOC\",\n",
        "            data = south_asia,\n",
        "            kind = \"count\",\n",
        "            height = 10,\n",
        "            aspect = .9\n",
        "            )\n",
        "\n",
        "ax = graf.axes[0, 0]\n",
        "ax.bar_label(ax.containers[0])"
      ]
    },
    {
      "cell_type": "markdown",
      "metadata": {
        "id": "SfgYjXOFBAeV"
      },
      "source": [
        "#### Southeast Asia\n",
        "\n",
        "+ BRU - Brunei\n",
        "+ CAM - Cambodia\n",
        "+ INA - Indonesia\n",
        "+ LAO - Laos\n",
        "+ MAL/MAS/NBO - Malaysia\n",
        "+ MYA - Myanmar\n",
        "+ PHI - Philippines\n",
        "+ SIN - Singapore\n",
        "+ THA - Thailand\n",
        "+ TLS - Timor Leste\n",
        "+ VIE/VNM - Vietnam"
      ]
    },
    {
      "cell_type": "code",
      "execution_count": null,
      "metadata": {
        "colab": {
          "base_uri": "https://localhost:8080/",
          "height": 894
        },
        "id": "RlbJSZkYBD99",
        "outputId": "f12583f6-567e-4197-9107-2dc20320018f"
      },
      "outputs": [],
      "source": [
        "southeast_asia = data_female.query('NOC == \"BRU\" or NOC == \"CAM\" or NOC == \"INA\" or NOC == \"LAO\" or NOC == \"MAL\" or NOC == \"MAS\" or NOC == \"NBO\" or NOC == \"MYA\" or NOC == \"PHI\" or NOC == \"SIN\" or NOC == \"THA\" or NOC == \"TLS\" or NOC == \"VIE\" or NOC == \"VNM\"')\n",
        "\n",
        "graf = sns.catplot(x = \"NOC\",\n",
        "            data = southeast_asia,\n",
        "            kind = \"count\",\n",
        "            height = 10,\n",
        "            aspect = .9\n",
        "            )\n",
        "\n",
        "ax = graf.axes[0, 0]\n",
        "ax.bar_label(ax.containers[0])"
      ]
    },
    {
      "cell_type": "markdown",
      "metadata": {
        "id": "iwfYk-PeBGc8"
      },
      "source": [
        "#### Western Asia\n",
        "\n",
        "+ ARM - Armenia\n",
        "+ AZE - Azerbaijan\n",
        "+ GEO - Georgia"
      ]
    },
    {
      "cell_type": "code",
      "execution_count": null,
      "metadata": {
        "colab": {
          "base_uri": "https://localhost:8080/",
          "height": 215
        },
        "id": "JTF1X8voBJhJ",
        "outputId": "52fd9826-5542-49aa-af14-7b14b3ecf2e5"
      },
      "outputs": [],
      "source": [
        "western_asia = data_female.query('NOC == \"ARM\" or NOC == \"AZE\" or NOC == \"GEO\"')\n",
        "\n",
        "graf = sns.catplot(x = \"NOC\",\n",
        "            data = western_asia,\n",
        "            kind = \"count\",\n",
        "            height = 10,\n",
        "            aspect = .9\n",
        "            )\n",
        "\n",
        "ax = graf.axes[0, 0]\n",
        "ax.bar_label(ax.containers[0])"
      ]
    },
    {
      "cell_type": "markdown",
      "metadata": {
        "id": "lfQoviioBNwb"
      },
      "source": [
        "### Oceania and Others"
      ]
    },
    {
      "cell_type": "markdown",
      "metadata": {
        "id": "dyz2aeZ0BMO9"
      },
      "source": [
        "#### Oceania\n",
        "\n",
        "+ ASA - American Samoa\n",
        "+ ANZ/AUS - Australia\n",
        "+ COK - Cook Islands\n",
        "+ FIJ - Fiji\n",
        "+ NZL - New Zealand\n",
        "+ FSM - Federated States of Micronesia\n",
        "+ KIR - Kiribati\n",
        "+ MHL - Marshall Islands\n",
        "+ NRU - Nauru\n",
        "+ PLW - Palau\n",
        "+ PNG - Papua New Guinea\n",
        "+ SAM - Samoa\n",
        "+ SOL - Solomon Islands\n",
        "+ TGA - Tonga\n",
        "+ TUV - Tuvalu\n",
        "+ VAN - Vanuatu"
      ]
    },
    {
      "cell_type": "code",
      "execution_count": null,
      "metadata": {
        "colab": {
          "base_uri": "https://localhost:8080/",
          "height": 1000
        },
        "id": "KpPuAJq1Be4_",
        "outputId": "8bcadf51-99f1-4176-87f7-24f426b98b44"
      },
      "outputs": [],
      "source": [
        "oceania = data_female.query('NOC == \"ASA\" or NOC == \"ANZ\" or NOC == \"AUS\" or NOC == \"COK\" or NOC == \"FIJ\" or NOC == \"NZL\" or NOC == \"FSM\" or NOC == \"KIR\" or NOC == \"MHL\" or NOC == \"NRU\" or NOC == \"PLW\" or NOC == \"PNG\" or NOC == \"SAM\" or NOC == \"SOL\" or NOC == \"TGA\" or NOC == \"TUV\" or NOC == \"VAN\"')\n",
        "\n",
        "graf = sns.catplot(x = \"NOC\",\n",
        "            data = oceania,\n",
        "            kind = \"count\",\n",
        "            height = 10,\n",
        "            aspect = .9\n",
        "            )\n",
        "\n",
        "ax = graf.axes[0, 0]\n",
        "ax.bar_label(ax.containers[0])"
      ]
    },
    {
      "cell_type": "markdown",
      "metadata": {
        "id": "sw7ELCKwBh22"
      },
      "source": [
        "#### Others\n",
        "\n",
        "+ IOA - Individual Olympic Athletes\n",
        "+ ROT - Refugee Olympic Team\n",
        "+ UNK - Unknown"
      ]
    },
    {
      "cell_type": "code",
      "execution_count": null,
      "metadata": {
        "colab": {
          "base_uri": "https://localhost:8080/",
          "height": 162
        },
        "id": "6yUqd-vwBk4G",
        "outputId": "b206a41b-d56a-4ab4-b6f3-db68c85174da"
      },
      "outputs": [],
      "source": [
        "others = data_female.query('NOC == \"IOA\" or NOC == \"ROT\" or NOC == \"UNK\"')\n",
        "\n",
        "graf = sns.catplot(x = \"NOC\",\n",
        "            data = others,\n",
        "            kind = \"count\",\n",
        "            height = 10,\n",
        "            aspect = .9\n",
        "            )\n",
        "\n",
        "ax = graf.axes[0, 0]\n",
        "ax.bar_label(ax.containers[0])"
      ]
    },
    {
      "cell_type": "markdown",
      "metadata": {
        "id": "cuYfs-McrdIH"
      },
      "source": [
        "### **Comentário:**\n",
        "A distribuição ocorre de maneira a evidenciar a disparidade de oportunidades femininas no esporte por fatores extra-olímpicos (políticos e sociais no caso), com países mulçumanos ou africanos com um quadro de medalhas múltiplas vezes inferiores que países ocidentalizados e com maior abertura e oportunidades para a participação feminina."
      ]
    },
    {
      "cell_type": "markdown",
      "metadata": {
        "id": "g0EJbpAnB2AP"
      },
      "source": [
        "## Relação entre países e medalhas:"
      ]
    },
    {
      "cell_type": "markdown",
      "metadata": {
        "id": "smNNalGVCBYv"
      },
      "source": [
        "### Americas"
      ]
    },
    {
      "cell_type": "markdown",
      "metadata": {
        "id": "t_pr4SzlCOOi"
      },
      "source": [
        "#### North America"
      ]
    },
    {
      "cell_type": "code",
      "execution_count": null,
      "metadata": {
        "colab": {
          "base_uri": "https://localhost:8080/",
          "height": 72
        },
        "id": "uuYsQ6sVCFMl",
        "outputId": "e1a73e28-23f6-4093-a620-406616645b36"
      },
      "outputs": [],
      "source": [
        "data_female.groupby([north_america['NOC'], 'Medal']).size().unstack(1).fillna(0).plot(kind='bar', figsize=(50, 10))"
      ]
    },
    {
      "cell_type": "markdown",
      "metadata": {
        "id": "VRmjas3xCQAl"
      },
      "source": [
        "#### Central America"
      ]
    },
    {
      "cell_type": "code",
      "execution_count": null,
      "metadata": {
        "colab": {
          "base_uri": "https://localhost:8080/",
          "height": 72
        },
        "id": "cxxaBPmmCHjN",
        "outputId": "9e11198f-3bb1-49d5-8c17-28f1a7e99e31"
      },
      "outputs": [],
      "source": [
        "data_female.groupby([central_america['NOC'], 'Medal']).size().unstack(1).fillna(0).plot(kind='bar', figsize=(50, 10))"
      ]
    },
    {
      "cell_type": "markdown",
      "metadata": {
        "id": "aMTyZS5ZCSfQ"
      },
      "source": [
        "South America"
      ]
    },
    {
      "cell_type": "code",
      "execution_count": null,
      "metadata": {
        "colab": {
          "base_uri": "https://localhost:8080/",
          "height": 72
        },
        "id": "E6F1F9WOCKnJ",
        "outputId": "a288009f-5d85-4a1b-8ba6-da189570afe6"
      },
      "outputs": [],
      "source": [
        "data_female.groupby([south_america['NOC'], 'Medal']).size().unstack(1).fillna(0).plot(kind='bar', figsize=(50, 10))"
      ]
    },
    {
      "cell_type": "markdown",
      "metadata": {
        "id": "knXu6nCmCUcn"
      },
      "source": [
        "### Europe"
      ]
    },
    {
      "cell_type": "markdown",
      "metadata": {
        "id": "k7bnnesrDIwj"
      },
      "source": [
        "#### Eastern Europe"
      ]
    },
    {
      "cell_type": "code",
      "execution_count": null,
      "metadata": {
        "colab": {
          "base_uri": "https://localhost:8080/",
          "height": 72
        },
        "id": "0Pqvn0J2CYjS",
        "outputId": "1604195f-33ce-4d23-e081-79f76f902222"
      },
      "outputs": [],
      "source": [
        "data_female.groupby([eastern_europe['NOC'], 'Medal']).size().unstack(1).fillna(0).plot(kind='bar', figsize=(50, 10))"
      ]
    },
    {
      "cell_type": "markdown",
      "metadata": {
        "id": "80qk7D_BDLfW"
      },
      "source": [
        "#### Northern Europe"
      ]
    },
    {
      "cell_type": "code",
      "execution_count": null,
      "metadata": {
        "colab": {
          "base_uri": "https://localhost:8080/",
          "height": 72
        },
        "id": "1sxq3ILaCbGn",
        "outputId": "bf4c24ec-5278-40e2-f554-dd53d326fa14"
      },
      "outputs": [],
      "source": [
        "data_female.groupby([northern_europe['NOC'], 'Medal']).size().unstack(1).fillna(0).plot(kind='bar', figsize=(50, 10))"
      ]
    },
    {
      "cell_type": "markdown",
      "metadata": {
        "id": "YY0HF4y8DOB5"
      },
      "source": [
        "#### Southern Europe"
      ]
    },
    {
      "cell_type": "code",
      "execution_count": null,
      "metadata": {
        "colab": {
          "base_uri": "https://localhost:8080/",
          "height": 72
        },
        "id": "ZPq28da9Cc9K",
        "outputId": "92feefa1-988b-467a-94b3-837c52ad4ee9"
      },
      "outputs": [],
      "source": [
        "data_female.groupby([southern_europe['NOC'], 'Medal']).size().unstack(1).fillna(0).plot(kind='bar', figsize=(50, 10))"
      ]
    },
    {
      "cell_type": "markdown",
      "metadata": {
        "id": "QAU-xBUjDRFD"
      },
      "source": [
        "#### Western Europe"
      ]
    },
    {
      "cell_type": "code",
      "execution_count": null,
      "metadata": {
        "colab": {
          "base_uri": "https://localhost:8080/",
          "height": 72
        },
        "id": "4JWrV0ErCeuc",
        "outputId": "9290f4e4-b5b9-4f78-a49e-fa3d4fa8bd9e"
      },
      "outputs": [],
      "source": [
        "data_female.groupby([western_europe['NOC'], 'Medal']).size().unstack(1).fillna(0).plot(kind='bar', figsize=(50, 10))"
      ]
    },
    {
      "cell_type": "markdown",
      "metadata": {
        "id": "lwTWWjyaCg4y"
      },
      "source": [
        "### Africa"
      ]
    },
    {
      "cell_type": "markdown",
      "metadata": {
        "id": "Zu-XkLOIDXpE"
      },
      "source": [
        "#### Northern Africa"
      ]
    },
    {
      "cell_type": "code",
      "execution_count": null,
      "metadata": {
        "colab": {
          "base_uri": "https://localhost:8080/",
          "height": 72
        },
        "id": "iRn6I0apClDZ",
        "outputId": "74ebabf6-e8c7-42fb-e7be-ae135b53aa8f"
      },
      "outputs": [],
      "source": [
        "data_female.groupby([northern_africa['NOC'], 'Medal']).size().unstack(1).fillna(0).plot(kind='bar', figsize=(50, 10))"
      ]
    },
    {
      "cell_type": "markdown",
      "metadata": {
        "id": "61OaMoiLDZ-r"
      },
      "source": [
        "#### Eastern Africa"
      ]
    },
    {
      "cell_type": "code",
      "execution_count": null,
      "metadata": {
        "colab": {
          "base_uri": "https://localhost:8080/",
          "height": 72
        },
        "id": "Oeum92-JCnRk",
        "outputId": "b0a70d65-7846-4ecc-aedd-43cf75c0bf4e"
      },
      "outputs": [],
      "source": [
        "data_female.groupby([eastern_africa['NOC'], 'Medal']).size().unstack(1).fillna(0).plot(kind='bar', figsize=(50, 10))"
      ]
    },
    {
      "cell_type": "markdown",
      "metadata": {
        "id": "uYuLzi_fDeLM"
      },
      "source": [
        "#### Middle Africa"
      ]
    },
    {
      "cell_type": "code",
      "execution_count": null,
      "metadata": {
        "colab": {
          "base_uri": "https://localhost:8080/",
          "height": 72
        },
        "id": "NRJKSK80CqFo",
        "outputId": "512ed402-398a-4309-b4a5-db5d3e89b890"
      },
      "outputs": [],
      "source": [
        "data_female.groupby([middle_africa['NOC'], 'Medal']).size().unstack(1).fillna(0).plot(kind='bar', figsize=(50, 10))"
      ]
    },
    {
      "cell_type": "markdown",
      "metadata": {
        "id": "akl2x8JgDgNd"
      },
      "source": [
        "#### Southern Africa"
      ]
    },
    {
      "cell_type": "code",
      "execution_count": null,
      "metadata": {
        "colab": {
          "base_uri": "https://localhost:8080/",
          "height": 72
        },
        "id": "bTGkZ6A-Crrf",
        "outputId": "11d01517-6330-4dba-fdd9-a3aa20628f4c"
      },
      "outputs": [],
      "source": [
        "data_female.groupby([southern_africa['NOC'], 'Medal']).size().unstack(1).fillna(0).plot(kind='bar', figsize=(50, 10))"
      ]
    },
    {
      "cell_type": "markdown",
      "metadata": {
        "id": "AduXAFsODi3V"
      },
      "source": [
        "#### Western Africa"
      ]
    },
    {
      "cell_type": "code",
      "execution_count": null,
      "metadata": {
        "colab": {
          "base_uri": "https://localhost:8080/",
          "height": 72
        },
        "id": "MCdN9cHvCtzD",
        "outputId": "f6e54e9c-ef6c-4819-e145-ade2a3645f9a"
      },
      "outputs": [],
      "source": [
        "data_female.groupby([western_africa['NOC'], 'Medal']).size().unstack(1).fillna(0).plot(kind='bar', figsize=(50, 10))"
      ]
    },
    {
      "cell_type": "markdown",
      "metadata": {
        "id": "xxlRdn9FCv7O"
      },
      "source": [
        "### Middle East and Asia"
      ]
    },
    {
      "cell_type": "markdown",
      "metadata": {
        "id": "QuTc4HJgDoXa"
      },
      "source": [
        "#### Middle East"
      ]
    },
    {
      "cell_type": "code",
      "execution_count": null,
      "metadata": {
        "colab": {
          "base_uri": "https://localhost:8080/",
          "height": 72
        },
        "id": "EX1A29yHCzK3",
        "outputId": "1d3614ad-9410-4703-82df-5ac302f03ed1"
      },
      "outputs": [],
      "source": [
        "data_female.groupby([middle_east['NOC'], 'Medal']).size().unstack(1).fillna(0).plot(kind='bar', figsize=(50, 10))"
      ]
    },
    {
      "cell_type": "markdown",
      "metadata": {
        "id": "ArX2mHxTDqT9"
      },
      "source": [
        "#### Central Asia"
      ]
    },
    {
      "cell_type": "code",
      "execution_count": null,
      "metadata": {
        "colab": {
          "base_uri": "https://localhost:8080/",
          "height": 72
        },
        "id": "0lhoK1JUC1M-",
        "outputId": "d2bacf3f-9793-4346-c87c-41339a5318e3"
      },
      "outputs": [],
      "source": [
        "data_female.groupby([central_asia['NOC'], 'Medal']).size().unstack(1).fillna(0).plot(kind='bar', figsize=(50, 10))"
      ]
    },
    {
      "cell_type": "markdown",
      "metadata": {
        "id": "k1AjSt1SDsRu"
      },
      "source": [
        "#### East Asia"
      ]
    },
    {
      "cell_type": "code",
      "execution_count": null,
      "metadata": {
        "colab": {
          "base_uri": "https://localhost:8080/",
          "height": 72
        },
        "id": "LsmNe-lFC214",
        "outputId": "d78630de-fb6b-4ae5-b934-9bed81caf77f"
      },
      "outputs": [],
      "source": [
        "data_female.groupby([east_asia['NOC'], 'Medal']).size().unstack(1).fillna(0).plot(kind='bar', figsize=(50, 10))"
      ]
    },
    {
      "cell_type": "markdown",
      "metadata": {
        "id": "30grfpnMDu0x"
      },
      "source": [
        "#### South Asia"
      ]
    },
    {
      "cell_type": "code",
      "execution_count": null,
      "metadata": {
        "colab": {
          "base_uri": "https://localhost:8080/",
          "height": 72
        },
        "id": "hDgiqFesC5Eg",
        "outputId": "ddf30337-b38c-48fb-a3c2-9afc049fbf1b"
      },
      "outputs": [],
      "source": [
        "data_female.groupby([south_asia['NOC'], 'Medal']).size().unstack(1).fillna(0).plot(kind='bar', figsize=(50, 10))"
      ]
    },
    {
      "cell_type": "markdown",
      "metadata": {
        "id": "zHGFStrMDyLt"
      },
      "source": [
        "#### Southeast Asia"
      ]
    },
    {
      "cell_type": "code",
      "execution_count": null,
      "metadata": {
        "colab": {
          "base_uri": "https://localhost:8080/",
          "height": 72
        },
        "id": "bx_E2TOsC6u9",
        "outputId": "a0b3e9b0-35da-4ac5-c798-7888ad5c3bc6"
      },
      "outputs": [],
      "source": [
        "data_female.groupby([southeast_asia['NOC'], 'Medal']).size().unstack(1).fillna(0).plot(kind='bar', figsize=(50, 10))"
      ]
    },
    {
      "cell_type": "markdown",
      "metadata": {
        "id": "r50qLesXD0ik"
      },
      "source": [
        "Western Asia"
      ]
    },
    {
      "cell_type": "code",
      "execution_count": null,
      "metadata": {
        "colab": {
          "base_uri": "https://localhost:8080/",
          "height": 72
        },
        "id": "qglOEEuZC81S",
        "outputId": "9c0b6a14-c3e2-486a-b190-5515093b5c61"
      },
      "outputs": [],
      "source": [
        "data_female.groupby([western_asia['NOC'], 'Medal']).size().unstack(1).fillna(0).plot(kind='bar', figsize=(50, 10))"
      ]
    },
    {
      "cell_type": "markdown",
      "metadata": {
        "id": "5MRkFhJUDARr"
      },
      "source": [
        "### Oceania and Others"
      ]
    },
    {
      "cell_type": "markdown",
      "metadata": {
        "id": "J74E7DAqD4Wa"
      },
      "source": [
        "#### Oceania"
      ]
    },
    {
      "cell_type": "code",
      "execution_count": null,
      "metadata": {
        "colab": {
          "base_uri": "https://localhost:8080/",
          "height": 72
        },
        "id": "-SKGx18oDCmX",
        "outputId": "ae0ca205-ae2c-45c1-b44a-509abc5118e6"
      },
      "outputs": [],
      "source": [
        "data_female.groupby([oceania['NOC'], 'Medal']).size().unstack(1).fillna(0).plot(kind='bar', figsize=(50, 10))"
      ]
    },
    {
      "cell_type": "markdown",
      "metadata": {
        "id": "yhZbfsC-D5vC"
      },
      "source": [
        "#### Others"
      ]
    },
    {
      "cell_type": "code",
      "execution_count": null,
      "metadata": {
        "colab": {
          "base_uri": "https://localhost:8080/",
          "height": 72
        },
        "id": "PMJ7JOq4DEVX",
        "outputId": "55f73e11-02fd-4d2e-8fa2-fd5acdc059c2"
      },
      "outputs": [],
      "source": [
        "data_female.groupby([others['NOC'], 'Medal']).size().unstack(1).fillna(0).plot(kind='bar', figsize=(50, 10))"
      ]
    },
    {
      "cell_type": "markdown",
      "metadata": {
        "id": "fiFvMsWjrrnn"
      },
      "source": [
        "### **Comentário:**\n"
      ]
    },
    {
      "cell_type": "markdown",
      "metadata": {
        "id": "HVlrqfx1sR6o"
      },
      "source": [
        "**Resumo:**\n",
        "\n",
        "Mostra que a divisão de conquista de medalhas é majoritariamente europeia (levando em conta a Turquia como um país europeu) e centrada nos países com maior PIB e consequentemente maior investimento em esporte. Na américa o destaque vai para todos os países pertencentes à parte norte do continente, com pequenos destaques para a Argentina, Cuba e o Brasil.\n",
        " \n",
        "Considerando que os dados possuem a divisão por atleta e país, poderia-se fazer uma correlação com os dados de investimento por nação e a forma como isso afeta na conquista individual de medalhas; porém por falta dos dados necessários, não analisaremos isto neste documento."
      ]
    },
    {
      "cell_type": "markdown",
      "metadata": {
        "id": "6tS2kELwsNW2"
      },
      "source": [
        "**Detalhado:**\n",
        "\n",
        "**América do norte:**  A partir do gráfico é possível notar que Estados Unidos e Canadá dominam o quadro de medalhas na América do Norte, com Estados Unidos ainda sim bem à frente do Canadá em número de medalhas. Isso se dá pelo fato dos EUA ser um país que investe assiduamente em esportes desde a juventude de seus atletas.\n",
        "\n",
        "**América Central:** A América Central concentra países onde a cultura do esporte não é muito difundida, com isso tem um quadro de medalhas bem menor que os demais. Cuba e Jamaica lideram o quadro de medalhas do continente, com Cuba na frente com mais medalhas de ouro.\n",
        "\n",
        "**América do Sul:** Na América do Sul, Brasil e Argentina lideram o quadro de medalhas, pois, são os dois países com mais investimento nos esportes no continente, com o Brasil na frente em relação às medalhas de ouro e geral.\n",
        "\n",
        "**Europa:** A partir dos dados obtidos, na Europa a União Soviética que ao passar dos anos se tornaria Rússia, liderava o quadro de medalhas na Europa oriental. Com o passar dos anos a hegemonia foi caindo um pouco e a Grã Bretanha começou a liderar o quadro de medalhas da Europa. E com o tempo foram surgindo mais países como Itália, Espanha, Portugal, entre outros que começaram a investir mais no esporte e subirem nos quadros de medalha.\n",
        "\n",
        "**África:** África é um dos continentes com o menor quadro de medalhas, causado pelo baixo investimento no esporte, sendo Quênia o país africano com mais medalhas no continente.\n",
        "\n",
        "**Ásia:** Na Ásia a China detém a hegemonia de medalhas no continente, sendo um dos países mais populosos e com mais atletas no mundo e sempre sendo referência nos jogos, a China é o país com mais medalhas de ouro no continente.\n",
        "\n",
        "**Oceania/Outros:** Na Oceania, como sendo o menor continente e com poucos países, quem se sobressai é a Austrália e a Nova Zelândia, os dois principais países da Oceania. Sendo a Austrália o país que detém o maior número de medalhas no geral e medalhas de ouro. "
      ]
    },
    {
      "cell_type": "markdown",
      "metadata": {
        "id": "ijMAeBLWIKNx"
      },
      "source": [
        "# Tratamento de dados"
      ]
    },
    {
      "cell_type": "code",
      "execution_count": null,
      "metadata": {
        "id": "19osvzKXOA4b"
      },
      "outputs": [],
      "source": [
        "columns = []\n",
        "columns = data_female.columns"
      ]
    },
    {
      "cell_type": "code",
      "execution_count": null,
      "metadata": {
        "id": "uPgqe7QaOMQH"
      },
      "outputs": [],
      "source": [
        "# Transformações de variáveis categóricas pelo LabelEncoder:\n",
        "data_female['Name'] = preprocessing.LabelEncoder().fit_transform(data_female['Name'])\n",
        "data_female['Team'] = preprocessing.LabelEncoder().fit_transform(data_female['Team'])\n",
        "data_female['NOC'] = preprocessing.LabelEncoder().fit_transform(data_female['NOC'])\n",
        "data_female['Games'] = preprocessing.LabelEncoder().fit_transform(data_female['Games'])\n",
        "data_female['Season'] = preprocessing.LabelEncoder().fit_transform(data_female['Season'])\n",
        "data_female['City'] = preprocessing.LabelEncoder().fit_transform(data_female['City'])\n",
        "data_female['Sport'] = preprocessing.LabelEncoder().fit_transform(data_female['Sport'])\n",
        "data_female['Event'] = preprocessing.LabelEncoder().fit_transform(data_female['Event'])\n",
        "data_female['Medal'] = preprocessing.LabelEncoder().fit_transform(data_female['Medal'])"
      ]
    },
    {
      "cell_type": "code",
      "execution_count": null,
      "metadata": {
        "id": "mg9gSB2QOeYi"
      },
      "outputs": [],
      "source": [
        "# Remoção de variáveis desnecessárias:\n",
        "data_female = data_female.drop('ID', axis = 1)\n",
        "data_female = data_female.drop('Name', axis = 1)\n",
        "data_female = data_female.drop('Sex', axis = 1)\n",
        "\n",
        "# Somente atletas brasileiras:\n",
        "data_female = data_female.query(\"NOC == 29\")"
      ]
    },
    {
      "cell_type": "code",
      "execution_count": null,
      "metadata": {
        "id": "k_pL79bKOk5C"
      },
      "outputs": [],
      "source": [
        "# Separando os datasets para realizarmos os testes:\n",
        "all_columns = data_female.drop('Medal', axis = 1)\n",
        "\n",
        "column_target = data_female.Medal"
      ]
    },
    {
      "cell_type": "code",
      "execution_count": null,
      "metadata": {
        "colab": {
          "base_uri": "https://localhost:8080/"
        },
        "id": "AjL4b6NJOuii",
        "outputId": "dcf0aee1-b370-425a-bcff-ccc3966d3650"
      },
      "outputs": [],
      "source": [
        "# Dataset de medalhas:\n",
        "column_target"
      ]
    },
    {
      "cell_type": "code",
      "execution_count": null,
      "metadata": {
        "colab": {
          "base_uri": "https://localhost:8080/",
          "height": 488
        },
        "id": "HFeUQdc5QLgh",
        "outputId": "cda5b1d6-43c5-48f2-d01b-c72295ef285b"
      },
      "outputs": [],
      "source": [
        "# Dataset completo:\n",
        "all_columns"
      ]
    },
    {
      "cell_type": "markdown",
      "metadata": {
        "id": "B1NjVl-RE4HF"
      },
      "source": [
        "# Aprendizado de máquina"
      ]
    },
    {
      "cell_type": "markdown",
      "metadata": {
        "id": "mNsgMHs3L0LP"
      },
      "source": [
        "**\"Quantas medalhas as atletas brasileiras vão ganhar nos próximos Jogos Olímpicos?\"**"
      ]
    },
    {
      "cell_type": "code",
      "execution_count": null,
      "metadata": {
        "id": "rFLyKVQnOv9n"
      },
      "outputs": [],
      "source": [
        "def SelecionarMelhorMetrica(metricsDF,auxDF, model_name):\n",
        "  #Pegar as melhores métricas com base no \"values_counts()\" que nós retorna o valor que mais se repete e sua frequencia\n",
        "  # O sorted é para ordenar esse valor pelo maior e dessa forma conseguir obter o registro com o melhor resultado por métrica\n",
        "  melhor_acuraria = sorted(auxDF[(auxDF.Modelo.eq(model_name))].Acuracia.value_counts().index, reverse= True)[0]\n",
        "  melhor_acuracia_registro_df = auxDF[(auxDF.Modelo.eq(model_name)) & (auxDF.Acuracia.eq(melhor_acuraria)) & (auxDF.F1 != 0) & (auxDF.Precision != 0) & (auxDF.AUC != 0.0) & (auxDF.Recall != 0)][:1]\n",
        "\n",
        "  melhor_precision = sorted(auxDF[(auxDF.Modelo.eq(model_name))].Precision.value_counts().index, reverse= True)[0]\n",
        "  melhor_precision_registro_df = auxDF[(auxDF.Modelo.eq(model_name)) & (auxDF.Acuracia != 0) & (auxDF.F1 != 0) & (auxDF.Precision.eq(melhor_precision)) & (auxDF.AUC != 0) & (auxDF.Recall != 0)][:1] \n",
        "\n",
        "  melhor_recall = sorted(auxDF[(auxDF.Modelo.eq(model_name))].Recall.value_counts().index, reverse= True)[0]\n",
        "  melhor_recal_registro_df = auxDF[(auxDF.Modelo.eq(model_name)) & (auxDF.Acuracia != 0) & (auxDF.F1 != 0) & (auxDF.Precision != 0) & (auxDF.AUC != 0) & (auxDF.Recall.eq(melhor_recall))][:1] \n",
        "\n",
        "  melhor_auc = sorted(auxDF[(auxDF.Modelo.eq(model_name))].AUC.value_counts().index, reverse= True)[0]\n",
        "  melhor_auc_registro_df = auxDF[(auxDF.Modelo.eq(model_name)) & (auxDF.Acuracia != 0) & (auxDF.F1 != 0) & (auxDF.Precision != 0) & (auxDF.AUC.eq(melhor_auc)) & (auxDF.Recall != 0)][:1] \n",
        "\n",
        "  melhor_F1 = sorted(auxDF[(auxDF.Modelo.eq(model_name))].F1.value_counts().index, reverse= True)[0]\n",
        "  melhor_F1_registro_df = auxDF[(auxDF.Modelo.eq(model_name)) & (auxDF.Acuracia != 0) & (auxDF.F1.eq(melhor_F1)) & (auxDF.Precision != 0) & (auxDF.AUC != 0) & (auxDF.Recall != 0)][:1] \n",
        "\n",
        "  media_final = ((melhor_acuraria + melhor_precision + melhor_recall + melhor_auc + melhor_F1) / 5)\n",
        "\n",
        "  melhor_acuracia_registro_df.MediaFinal[:1] = media_final\n",
        "  melhor_precision_registro_df.MediaFinal[:1] = media_final\n",
        "  melhor_recal_registro_df.MediaFinal[:1] = media_final\n",
        "  melhor_auc_registro_df.MediaFinal[:1] = media_final\n",
        "  melhor_F1_registro_df.MediaFinal[:1] = media_final\n",
        "\n",
        "\n",
        "  metricsDF = pd.concat([metricsDF,melhor_acuracia_registro_df,melhor_precision_registro_df,melhor_recal_registro_df,melhor_auc_registro_df,melhor_F1_registro_df])\n",
        "  return metricsDF"
      ]
    },
    {
      "cell_type": "code",
      "execution_count": null,
      "metadata": {
        "id": "vN7d_6txOzad"
      },
      "outputs": [],
      "source": [
        "def BuildDataFrameMetrics(metricsDF):\n",
        "  model_RF = RandomForestClassifier()\n",
        "  model_XGB = XGBClassifier()\n",
        "  model_NB = GaussianNB()\n",
        "  model_KNN = KNeighborsClassifier(n_neighbors = 15)\n",
        "  model_DT = DecisionTreeClassifier(max_depth = None, \n",
        "                                  max_features = None, \n",
        "                                  criterion = 'entropy',\n",
        "                                  min_samples_leaf = 1, \n",
        "                                  min_samples_split = 2)\n",
        "  nm = NearMiss()\n",
        "  models = {\"Random Forest\": model_RF, \n",
        "          \"XGBooster\": model_XGB,\n",
        "          \"Naive Bayes\": model_NB,\n",
        "          \"kNN\": model_KNN,\n",
        "          \"DecisionTree\": model_DT}\n",
        "\n",
        "  auxDF =  metricsDF;\n",
        "\n",
        "  for key, model_object in models.items():\n",
        "    for indexInsurance in range(2,12,2):\n",
        "      # Faz a verificação de qual é o modelo sendo utilizado na interação e o instancia novamente\n",
        "      # Caso isso não ocorra, na próxima interação o modelo ainda terá os dados do treinamento passado,\n",
        "      # resultando em um dado equivocado.\n",
        "      if (key == \"kNN\"):\n",
        "        model_object =  KNeighborsClassifier(n_neighbors = indexInsurance)\n",
        "      elif (key == \"Random Forest\"):\n",
        "        model_object = RandomForestClassifier()\n",
        "      elif (key == \"XGBooster\"):\n",
        "        model_object = XGBClassifier()\n",
        "      elif (key == \"Naive Bayes\"):\n",
        "        model_object = GaussianNB()\n",
        "      else:\n",
        "        model_object = DecisionTreeClassifier(max_depth = None,max_features = None, criterion = 'entropy',min_samples_leaf = 1,min_samples_split = 2)\n",
        "      \n",
        "      #Seleção das melhores colunas com base no números de colunas fornecidas pelo for\n",
        "      modelo_classif_features = SelectKBest(score_func = f_classif, k = indexInsurance)      \n",
        "      best_colunms = modelo_classif_features.fit(all_columns, column_target).get_support(indices=True)   \n",
        "\n",
        "      #Realização do oversampling / undersampling\n",
        "      best_colunms, column_target_1 = nm.fit_resample(data_female.iloc[:,best_colunms], column_target)\n",
        "      \n",
        "      #Separação dos dados de teste e treino\n",
        "      all_columns_treino, all_columns_teste, column_target_treino, column_target_teste = train_test_split(best_colunms,column_target_1,test_size = 0.30, random_state=42)\n",
        "      prediction =  model_object.fit(all_columns_treino, column_target_treino).predict(all_columns_teste)\n",
        "\n",
        "      #Criação das métricas \n",
        "      fpr2, tpr2, _ = metrics.roc_curve(column_target_teste, prediction, pos_label=1)\n",
        "      \n",
        "      auc = metrics.auc(fpr2, tpr2)\n",
        "      auc *=  100 if auc != 0.0 else 0.0\n",
        "      \n",
        "      accuracy = metrics.accuracy_score(column_target_teste, prediction)\n",
        "      accuracy *= 100 if accuracy != 0.0 else 0.0\n",
        "      \n",
        "      recall = metrics.recall_score(column_target_teste, prediction, pos_label='positive', average='micro')\n",
        "      recall *= 100 if recall != 0.0 else 0.0\n",
        "      \n",
        "      precision = metrics.precision_score(column_target_teste, prediction, pos_label='positive', average='micro') \n",
        "      precision *= 100 if precision != 0.0 else 0.0\n",
        "      \n",
        "      F1 = 2 * (precision * recall) / (precision + recall)\n",
        "\n",
        "      if(pd.isna(F1)):\n",
        "        F1 = 0.0\n",
        "      #Concatenação com o dataframe\n",
        "      auxDF =  auxDF.append({\n",
        "          'Acuracia' : accuracy,\n",
        "          'Precision' : precision,\n",
        "          'Recall' : recall,\n",
        "          'AUC' : auc,\n",
        "          'F1': F1,\n",
        "          \"MediaFinal\":0,\n",
        "          'Modelo' : key,\n",
        "          \"IndexColumnOriginal\": indexInsurance -1\n",
        "      }, ignore_index = True)\n",
        "    \n",
        "    #Preencher o dataset original somente com as melhores metricas, evitando registros desncessários. \n",
        "    metricsDF = SelecionarMelhorMetrica(metricsDF, auxDF,key);\n",
        "  return metricsDF"
      ]
    },
    {
      "cell_type": "code",
      "execution_count": null,
      "metadata": {
        "colab": {
          "base_uri": "https://localhost:8080/",
          "height": 363
        },
        "id": "3yAL4Qi9O1KK",
        "outputId": "46bb4118-bd19-4eef-ad1d-a40db49bb2a1"
      },
      "outputs": [],
      "source": [
        "# Criação do dataframe com métricas sobre os modelos.\n",
        "metricsDF = pd.DataFrame(columns= [\"Acuracia\",\"Precision\",\"Recall\",\"AUC\",\"F1\",\"MediaFinal\",\"Modelo\",\"IndexColumnOriginal\"])\n",
        "metricsDF = BuildDataFrameMetrics(metricsDF)\n",
        "metricsDF = metricsDF.drop_duplicates()\n",
        "metricsDF = metricsDF.sort_values(by=['MediaFinal'],ascending=False)\n",
        "metricsDF"
      ]
    },
    {
      "cell_type": "code",
      "execution_count": null,
      "metadata": {
        "colab": {
          "base_uri": "https://localhost:8080/"
        },
        "id": "fcETw84EO2nB",
        "outputId": "9166aabd-a3be-4ab8-c42a-57753f30cd39"
      },
      "outputs": [],
      "source": [
        "# Treinamento e predição do modelo selecionado:\n",
        "model_RF = RandomForestClassifier()\n",
        "\n",
        "nm = NearMiss()\n",
        "\n",
        "modelo_classif_features = SelectKBest(score_func = f_classif, k = np.array(metricsDF.IndexColumnOriginal[:1])[0])      \n",
        "best_colunms = modelo_classif_features.fit(all_columns, column_target).get_support(indices=True)   \n",
        "\n",
        "best_colunms_1, column_target_1 = nm.fit_resample(data_female.iloc[:,best_colunms], column_target)     \n",
        "\n",
        "all_columns_treino, all_columns_teste, column_target_treino, column_target_teste = train_test_split(best_colunms_1,column_target_1,test_size = 0.30, random_state=42)\n",
        "\n",
        "prediction =  model_RF.fit(all_columns_treino, column_target_treino).predict(all_columns_teste)\n",
        "\n",
        "fpr2, tpr2, _ = metrics.roc_curve(column_target_teste, prediction, pos_label=1)\n",
        "auc = metrics.auc(fpr2, tpr2)\n",
        "auc *=  100 if auc != 0.0 else 0.0\n",
        "accuracy = metrics.accuracy_score(column_target_teste, prediction)\n",
        "accuracy *= 100 if accuracy != 0.0 else 0.0\n",
        "recall = metrics.recall_score(column_target_teste, prediction, pos_label='positive', average='micro')\n",
        "recall *= 100 if recall != 0.0 else 0.0\n",
        "precision = metrics.precision_score(column_target_teste, prediction, pos_label='positive', average='micro') \n",
        "precision *= 100 if precision != 0.0 else 0.0\n",
        "F1 = 2 * (precision * recall) / (precision + recall)\n",
        "\n",
        "\n",
        "print(\"auc\",auc)\n",
        "print(\"accuracy\",accuracy)\n",
        "print(\"recall\",recall)\n",
        "print(\"precision\",precision)\n",
        "print(\"F1\",F1)"
      ]
    },
    {
      "cell_type": "code",
      "execution_count": null,
      "metadata": {
        "colab": {
          "base_uri": "https://localhost:8080/",
          "height": 269
        },
        "id": "C5QMejk4O4LW",
        "outputId": "85ece600-0c4b-4c37-8c4f-4573eeb83780"
      },
      "outputs": [],
      "source": [
        "# Matriz de confusão do modelo:\n",
        "cm = metrics.confusion_matrix(column_target_teste, prediction)\n",
        "f = sns.heatmap(cm, annot=True, fmt='d')"
      ]
    },
    {
      "cell_type": "code",
      "execution_count": null,
      "metadata": {
        "colab": {
          "base_uri": "https://localhost:8080/"
        },
        "id": "lT5s9FGJO6MQ",
        "outputId": "6b7ff2c9-2440-4c18-d601-6351714a4b2e"
      },
      "outputs": [],
      "source": [
        "ouro = np.count_nonzero(prediction == 1)\n",
        "prata = np.count_nonzero(prediction == 2)\n",
        "bronze = np.count_nonzero(prediction == 0)     \n",
        "                          \n",
        "print('Resultado da predição de medalhas:\\n')\n",
        "print('Ouro: ', ouro)\n",
        "print('Prata: ', prata)\n",
        "print('Bronze: ', bronze)\n",
        "print('Total: ', ouro + prata + bronze)"
      ]
    },
    {
      "cell_type": "markdown",
      "metadata": {
        "id": "fTfEHZUPtt_m"
      },
      "source": [
        "**Comentário:**\n",
        "Podemos comparar os resultados acima com os resultados reais dos Jogos Olímpicos de 2021:\n",
        " - Ouro: 7\n",
        " - Prata: 6\n",
        " - Bronze: 8\n",
        " - Total: 21\n",
        " \n",
        "O modelo conseguiu predizer corretamente as medalhas de ouro e ficou bem próximo dos resultados reais das de prata e bronze."
      ]
    }
  ],
  "metadata": {
    "colab": {
      "collapsed_sections": [
        "09vFn8Px7Ofb",
        "P0WrgGW27fJC",
        "mx7uUs19YMlM",
        "dG3UuOChYncr",
        "YczwxMBTkNUP",
        "_O-SLvckk2hE",
        "97a8tU6oYY6T",
        "q_D7tvKclB4U",
        "RQqZbUzOlnur",
        "wLOrIuYiYc9e",
        "w21HLk3fY_uv",
        "smuseNy2mGyN",
        "VHIkPJYKZFOc",
        "Hhu3kft7ZVPA",
        "MX63CfIdmb6K",
        "Jfac71W4ZZe9",
        "0arjzgiLZlwU",
        "-NIxA2jtmrIA",
        "EvglyB5tZpf7",
        "GN0fLtBUZxlQ",
        "e6IRJQyAmzPC",
        "8ocqPSEEZ0tw",
        "prek-mLyZ3IQ",
        "o8gXw8JVnMLE",
        "ihd87xaln95y",
        "eleMIPr1oDAn",
        "-EpS7ScnnTUB",
        "Ux2MpbP_oJ8i",
        "STPLt7HHoMkD",
        "2VHKO5YC7Oav",
        "SqUCZ5gb4glE",
        "JnFWOXem4ocK",
        "p8M34b7q4ve0",
        "VVchetMF4ylP",
        "LqTTeKKv42wk",
        "MPoGMafr458E",
        "K7XN0KNJ49lc",
        "k5tCKDmJ5ARx",
        "1wCYoN2_5DNv",
        "J0_RtT-Q9L0I",
        "cIrBf-cO53xB",
        "vuR1iTqw59lE",
        "6kt_5WCY6L-L",
        "akAqS3VE6Oeo",
        "8Dl-Uyvb6jkU",
        "kKr8YyJV7DVz",
        "oV14cLe07Ms2",
        "322jwEPb7Yvp",
        "AZeGBIQl7kGc",
        "-6k17pwu7qYt",
        "cSZTNHvQ7tW7",
        "Hj3OWjpZ-pA-",
        "oj583l968wRt",
        "VwH02Y3J84eX",
        "GS7Oo5fW9ASc",
        "zpmKRzrE9H1h",
        "G30sxDom9MlZ",
        "62YhyJa09Pra",
        "RiqywM-B9SQI",
        "VZm3QeC79WC3",
        "C4m8MhDA9ZZU",
        "f86d3Ux49crV",
        "4edX72H59j2h",
        "7HPNrFGp-l4M",
        "mM6uw90G-Wfc",
        "oMU8sVLR_j5m",
        "CFj6BLvNActw",
        "lfQoviioBNwb",
        "dyz2aeZ0BMO9",
        "g0EJbpAnB2AP",
        "smNNalGVCBYv",
        "knXu6nCmCUcn",
        "k7bnnesrDIwj",
        "80qk7D_BDLfW",
        "YY0HF4y8DOB5",
        "QAU-xBUjDRFD",
        "lwTWWjyaCg4y",
        "xxlRdn9FCv7O",
        "5MRkFhJUDARr",
        "J74E7DAqD4Wa",
        "yhZbfsC-D5vC",
        "ijMAeBLWIKNx",
        "B1NjVl-RE4HF"
      ],
      "name": "Avaliação C3 - Neumann Software.ipynb",
      "provenance": []
    },
    "kernelspec": {
      "display_name": "Python 3",
      "name": "python3"
    },
    "language_info": {
      "name": "python"
    }
  },
  "nbformat": 4,
  "nbformat_minor": 0
}
